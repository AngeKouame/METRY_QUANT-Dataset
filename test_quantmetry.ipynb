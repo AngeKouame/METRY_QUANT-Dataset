{
 "cells": [
  {
   "cell_type": "markdown",
   "metadata": {
    "collapsed": true
   },
   "source": [
    "#### NOTEBOOK DE REPONSES #####\n",
    "La version de python utilisé est la 3.7"
   ]
  },
  {
   "cell_type": "code",
   "execution_count": 1,
   "metadata": {
    "collapsed": true
   },
   "outputs": [],
   "source": [
    "# importation des differentes librairies\n",
    "import pandas as pd\n",
    "import numpy as np\n",
    "%matplotlib inline"
   ]
  },
  {
   "cell_type": "markdown",
   "metadata": {},
   "source": [
    "### 1- Statistiques descriptives"
   ]
  },
  {
   "cell_type": "markdown",
   "metadata": {},
   "source": [
    "#### 1. Description du jeu de données:\n",
    "<i>Presentation des analyses et des éventuels retraitements</i>.\n",
    "<br> <i>Conclusion sur les variables pertinentes à selectionner</i>."
   ]
  },
  {
   "cell_type": "code",
   "execution_count": 2,
   "metadata": {},
   "outputs": [
    {
     "data": {
      "text/html": [
       "<div>\n",
       "<style>\n",
       "    .dataframe thead tr:only-child th {\n",
       "        text-align: right;\n",
       "    }\n",
       "\n",
       "    .dataframe thead th {\n",
       "        text-align: left;\n",
       "    }\n",
       "\n",
       "    .dataframe tbody tr th {\n",
       "        vertical-align: top;\n",
       "    }\n",
       "</style>\n",
       "<table border=\"1\" class=\"dataframe\">\n",
       "  <thead>\n",
       "    <tr style=\"text-align: right;\">\n",
       "      <th></th>\n",
       "      <th>Unnamed: 0</th>\n",
       "      <th>date</th>\n",
       "      <th>cheveux</th>\n",
       "      <th>age</th>\n",
       "      <th>exp</th>\n",
       "      <th>salaire</th>\n",
       "      <th>sexe</th>\n",
       "      <th>diplome</th>\n",
       "      <th>specialite</th>\n",
       "      <th>note</th>\n",
       "      <th>dispo</th>\n",
       "      <th>embauche</th>\n",
       "    </tr>\n",
       "    <tr>\n",
       "      <th>index</th>\n",
       "      <th></th>\n",
       "      <th></th>\n",
       "      <th></th>\n",
       "      <th></th>\n",
       "      <th></th>\n",
       "      <th></th>\n",
       "      <th></th>\n",
       "      <th></th>\n",
       "      <th></th>\n",
       "      <th></th>\n",
       "      <th></th>\n",
       "      <th></th>\n",
       "    </tr>\n",
       "  </thead>\n",
       "  <tbody>\n",
       "    <tr>\n",
       "      <th>0</th>\n",
       "      <td>0</td>\n",
       "      <td>2012-06-02</td>\n",
       "      <td>roux</td>\n",
       "      <td>25.0</td>\n",
       "      <td>9.0</td>\n",
       "      <td>26803.0</td>\n",
       "      <td>F</td>\n",
       "      <td>licence</td>\n",
       "      <td>geologie</td>\n",
       "      <td>97.08</td>\n",
       "      <td>non</td>\n",
       "      <td>0</td>\n",
       "    </tr>\n",
       "    <tr>\n",
       "      <th>1</th>\n",
       "      <td>1</td>\n",
       "      <td>2011-04-21</td>\n",
       "      <td>blond</td>\n",
       "      <td>35.0</td>\n",
       "      <td>13.0</td>\n",
       "      <td>38166.0</td>\n",
       "      <td>M</td>\n",
       "      <td>licence</td>\n",
       "      <td>forage</td>\n",
       "      <td>63.86</td>\n",
       "      <td>non</td>\n",
       "      <td>0</td>\n",
       "    </tr>\n",
       "    <tr>\n",
       "      <th>2</th>\n",
       "      <td>2</td>\n",
       "      <td>2012-09-07</td>\n",
       "      <td>blond</td>\n",
       "      <td>29.0</td>\n",
       "      <td>13.0</td>\n",
       "      <td>35207.0</td>\n",
       "      <td>M</td>\n",
       "      <td>licence</td>\n",
       "      <td>geologie</td>\n",
       "      <td>78.50</td>\n",
       "      <td>non</td>\n",
       "      <td>0</td>\n",
       "    </tr>\n",
       "    <tr>\n",
       "      <th>3</th>\n",
       "      <td>3</td>\n",
       "      <td>2011-07-01</td>\n",
       "      <td>brun</td>\n",
       "      <td>NaN</td>\n",
       "      <td>12.0</td>\n",
       "      <td>32442.0</td>\n",
       "      <td>M</td>\n",
       "      <td>licence</td>\n",
       "      <td>geologie</td>\n",
       "      <td>45.09</td>\n",
       "      <td>non</td>\n",
       "      <td>0</td>\n",
       "    </tr>\n",
       "    <tr>\n",
       "      <th>4</th>\n",
       "      <td>4</td>\n",
       "      <td>2012-08-07</td>\n",
       "      <td>roux</td>\n",
       "      <td>35.0</td>\n",
       "      <td>6.0</td>\n",
       "      <td>28533.0</td>\n",
       "      <td>F</td>\n",
       "      <td>licence</td>\n",
       "      <td>detective</td>\n",
       "      <td>81.91</td>\n",
       "      <td>non</td>\n",
       "      <td>0</td>\n",
       "    </tr>\n",
       "  </tbody>\n",
       "</table>\n",
       "</div>"
      ],
      "text/plain": [
       "       Unnamed: 0        date cheveux   age   exp  salaire sexe  diplome  \\\n",
       "index                                                                      \n",
       "0               0  2012-06-02    roux  25.0   9.0  26803.0    F  licence   \n",
       "1               1  2011-04-21   blond  35.0  13.0  38166.0    M  licence   \n",
       "2               2  2012-09-07   blond  29.0  13.0  35207.0    M  licence   \n",
       "3               3  2011-07-01    brun   NaN  12.0  32442.0    M  licence   \n",
       "4               4  2012-08-07    roux  35.0   6.0  28533.0    F  licence   \n",
       "\n",
       "      specialite   note dispo  embauche  \n",
       "index                                    \n",
       "0       geologie  97.08   non         0  \n",
       "1         forage  63.86   non         0  \n",
       "2       geologie  78.50   non         0  \n",
       "3       geologie  45.09   non         0  \n",
       "4      detective  81.91   non         0  "
      ]
     },
     "execution_count": 2,
     "metadata": {},
     "output_type": "execute_result"
    }
   ],
   "source": [
    "# lecture du dataset\n",
    "filename = 'data_v1.0 .csv'\n",
    "data = pd.read_csv(filename, index_col='index')\n",
    "# Visualisation  des données\n",
    "data.head()\n",
    "#data['embauche'] = data['embauche'].apply(lambda x: 'Non' if x==0 else 'Oui')"
   ]
  },
  {
   "cell_type": "code",
   "execution_count": 3,
   "metadata": {},
   "outputs": [
    {
     "name": "stdout",
     "output_type": "stream",
     "text": [
      "<class 'pandas.core.frame.DataFrame'>\n",
      "Int64Index: 20000 entries, 0 to 19999\n",
      "Data columns (total 12 columns):\n",
      "Unnamed: 0    20000 non-null int64\n",
      "date          19909 non-null object\n",
      "cheveux       19897 non-null object\n",
      "age           19909 non-null float64\n",
      "exp           19904 non-null float64\n",
      "salaire       19905 non-null float64\n",
      "sexe          19900 non-null object\n",
      "diplome       19890 non-null object\n",
      "specialite    19907 non-null object\n",
      "note          19886 non-null float64\n",
      "dispo         19894 non-null object\n",
      "embauche      20000 non-null int64\n",
      "dtypes: float64(4), int64(2), object(6)\n",
      "memory usage: 2.0+ MB\n"
     ]
    }
   ],
   "source": [
    "data.info()"
   ]
  },
  {
   "cell_type": "code",
   "execution_count": 4,
   "metadata": {
    "collapsed": true
   },
   "outputs": [],
   "source": [
    "# supression de la premiere colonne non informative\n",
    "data = data.drop(data.columns[0], axis=1)"
   ]
  },
  {
   "cell_type": "code",
   "execution_count": 5,
   "metadata": {},
   "outputs": [
    {
     "data": {
      "text/html": [
       "<div>\n",
       "<style>\n",
       "    .dataframe thead tr:only-child th {\n",
       "        text-align: right;\n",
       "    }\n",
       "\n",
       "    .dataframe thead th {\n",
       "        text-align: left;\n",
       "    }\n",
       "\n",
       "    .dataframe tbody tr th {\n",
       "        vertical-align: top;\n",
       "    }\n",
       "</style>\n",
       "<table border=\"1\" class=\"dataframe\">\n",
       "  <thead>\n",
       "    <tr style=\"text-align: right;\">\n",
       "      <th></th>\n",
       "      <th>date</th>\n",
       "      <th>cheveux</th>\n",
       "      <th>age</th>\n",
       "      <th>exp</th>\n",
       "      <th>salaire</th>\n",
       "      <th>sexe</th>\n",
       "      <th>diplome</th>\n",
       "      <th>specialite</th>\n",
       "      <th>note</th>\n",
       "      <th>dispo</th>\n",
       "      <th>embauche</th>\n",
       "    </tr>\n",
       "    <tr>\n",
       "      <th>index</th>\n",
       "      <th></th>\n",
       "      <th></th>\n",
       "      <th></th>\n",
       "      <th></th>\n",
       "      <th></th>\n",
       "      <th></th>\n",
       "      <th></th>\n",
       "      <th></th>\n",
       "      <th></th>\n",
       "      <th></th>\n",
       "      <th></th>\n",
       "    </tr>\n",
       "  </thead>\n",
       "  <tbody>\n",
       "    <tr>\n",
       "      <th>0</th>\n",
       "      <td>2012-06-02</td>\n",
       "      <td>roux</td>\n",
       "      <td>25.0</td>\n",
       "      <td>9.0</td>\n",
       "      <td>26803.0</td>\n",
       "      <td>F</td>\n",
       "      <td>licence</td>\n",
       "      <td>geologie</td>\n",
       "      <td>97.08</td>\n",
       "      <td>non</td>\n",
       "      <td>0</td>\n",
       "    </tr>\n",
       "    <tr>\n",
       "      <th>1</th>\n",
       "      <td>2011-04-21</td>\n",
       "      <td>blond</td>\n",
       "      <td>35.0</td>\n",
       "      <td>13.0</td>\n",
       "      <td>38166.0</td>\n",
       "      <td>M</td>\n",
       "      <td>licence</td>\n",
       "      <td>forage</td>\n",
       "      <td>63.86</td>\n",
       "      <td>non</td>\n",
       "      <td>0</td>\n",
       "    </tr>\n",
       "    <tr>\n",
       "      <th>2</th>\n",
       "      <td>2012-09-07</td>\n",
       "      <td>blond</td>\n",
       "      <td>29.0</td>\n",
       "      <td>13.0</td>\n",
       "      <td>35207.0</td>\n",
       "      <td>M</td>\n",
       "      <td>licence</td>\n",
       "      <td>geologie</td>\n",
       "      <td>78.50</td>\n",
       "      <td>non</td>\n",
       "      <td>0</td>\n",
       "    </tr>\n",
       "    <tr>\n",
       "      <th>3</th>\n",
       "      <td>2011-07-01</td>\n",
       "      <td>brun</td>\n",
       "      <td>NaN</td>\n",
       "      <td>12.0</td>\n",
       "      <td>32442.0</td>\n",
       "      <td>M</td>\n",
       "      <td>licence</td>\n",
       "      <td>geologie</td>\n",
       "      <td>45.09</td>\n",
       "      <td>non</td>\n",
       "      <td>0</td>\n",
       "    </tr>\n",
       "    <tr>\n",
       "      <th>4</th>\n",
       "      <td>2012-08-07</td>\n",
       "      <td>roux</td>\n",
       "      <td>35.0</td>\n",
       "      <td>6.0</td>\n",
       "      <td>28533.0</td>\n",
       "      <td>F</td>\n",
       "      <td>licence</td>\n",
       "      <td>detective</td>\n",
       "      <td>81.91</td>\n",
       "      <td>non</td>\n",
       "      <td>0</td>\n",
       "    </tr>\n",
       "  </tbody>\n",
       "</table>\n",
       "</div>"
      ],
      "text/plain": [
       "             date cheveux   age   exp  salaire sexe  diplome specialite  \\\n",
       "index                                                                     \n",
       "0      2012-06-02    roux  25.0   9.0  26803.0    F  licence   geologie   \n",
       "1      2011-04-21   blond  35.0  13.0  38166.0    M  licence     forage   \n",
       "2      2012-09-07   blond  29.0  13.0  35207.0    M  licence   geologie   \n",
       "3      2011-07-01    brun   NaN  12.0  32442.0    M  licence   geologie   \n",
       "4      2012-08-07    roux  35.0   6.0  28533.0    F  licence  detective   \n",
       "\n",
       "        note dispo  embauche  \n",
       "index                         \n",
       "0      97.08   non         0  \n",
       "1      63.86   non         0  \n",
       "2      78.50   non         0  \n",
       "3      45.09   non         0  \n",
       "4      81.91   non         0  "
      ]
     },
     "execution_count": 5,
     "metadata": {},
     "output_type": "execute_result"
    }
   ],
   "source": [
    "data.head()"
   ]
  },
  {
   "cell_type": "code",
   "execution_count": 6,
   "metadata": {},
   "outputs": [
    {
     "name": "stdout",
     "output_type": "stream",
     "text": [
      "<class 'pandas.core.frame.DataFrame'>\n",
      "Int64Index: 20000 entries, 0 to 19999\n",
      "Data columns (total 11 columns):\n",
      "date          19909 non-null object\n",
      "cheveux       19897 non-null object\n",
      "age           19909 non-null float64\n",
      "exp           19904 non-null float64\n",
      "salaire       19905 non-null float64\n",
      "sexe          19900 non-null object\n",
      "diplome       19890 non-null object\n",
      "specialite    19907 non-null object\n",
      "note          19886 non-null float64\n",
      "dispo         19894 non-null object\n",
      "embauche      20000 non-null int64\n",
      "dtypes: float64(4), int64(1), object(6)\n",
      "memory usage: 1.8+ MB\n"
     ]
    }
   ],
   "source": [
    "# informations generale sur le dataset\n",
    "data.info()"
   ]
  },
  {
   "cell_type": "code",
   "execution_count": 7,
   "metadata": {},
   "outputs": [
    {
     "name": "stdout",
     "output_type": "stream",
     "text": [
      "valeurs manquantes par columnes:\n",
      "date          0.455\n",
      "cheveux       0.515\n",
      "age           0.455\n",
      "exp           0.480\n",
      "salaire       0.475\n",
      "sexe          0.500\n",
      "diplome       0.550\n",
      "specialite    0.465\n",
      "note          0.570\n",
      "dispo         0.530\n",
      "embauche      0.000\n",
      "dtype: float64\n"
     ]
    }
   ],
   "source": [
    "print('valeurs manquantes par columnes:\\n{}'.format(data.isnull().mean()*100))"
   ]
  },
  {
   "cell_type": "markdown",
   "metadata": {},
   "source": [
    "La plupart des variables explicatives contiennent des valeurs manquantes, toutes (<1%).\n",
    "Plusieurs méthodes sont possibles. En effet, nous pouvons remplacer les valeurs manquantes par la moyenne, la médiane, enfin par regression des autres variables explicatives et enfin par le mode (pour les variables categorielles).\n"
   ]
  },
  {
   "cell_type": "markdown",
   "metadata": {},
   "source": [
    "#### Regardons le nombre de lignes du dataset supprimés en cas de non conservation des valeurs manquantes"
   ]
  },
  {
   "cell_type": "code",
   "execution_count": 8,
   "metadata": {},
   "outputs": [
    {
     "name": "stdout",
     "output_type": "stream",
     "text": [
      "nombres de lignes manquantes: 4.89500000000001\n"
     ]
    }
   ],
   "source": [
    "clean_data = data.dropna(how='any')\n",
    "print('nombres de lignes manquantes: {}'.format(100-((len(clean_data)/len(data))*100)))"
   ]
  },
  {
   "cell_type": "code",
   "execution_count": 9,
   "metadata": {},
   "outputs": [],
   "source": [
    "clean_data = clean_data.drop(['date'], axis=1).reset_index()"
   ]
  },
  {
   "cell_type": "code",
   "execution_count": null,
   "metadata": {
    "collapsed": true
   },
   "outputs": [],
   "source": []
  },
  {
   "cell_type": "markdown",
   "metadata": {},
   "source": [
    "Vu que le nombre de lignes à supprimer est lui inférieur sensiblement / <b>5%</b> de l'ensemble du dataset, on pourrait vraisemblablement les supprimer. Cependant, avant de considerer cette étape regardons l'impact d'une éventuel suppression sur le jeu de données.\n"
   ]
  },
  {
   "cell_type": "code",
   "execution_count": 10,
   "metadata": {},
   "outputs": [
    {
     "data": {
      "text/plain": [
       "<matplotlib.legend.Legend at 0x7f1e46eed400>"
      ]
     },
     "execution_count": 10,
     "metadata": {},
     "output_type": "execute_result"
    },
    {
     "data": {
      "image/png": "[encoded data removed]",
      "text/plain": [
       "<matplotlib.figure.Figure at 0x7f1e46f8cf28>"
      ]
     },
     "metadata": {},
     "output_type": "display_data"
    }
   ],
   "source": [
    "import matplotlib.pyplot as plt\n",
    "labels = data['embauche'].value_counts().index\n",
    "data_embauche_stat = data['embauche'].value_counts()\n",
    "data_clean_embauche_stat = clean_data['embauche'].value_counts()\n",
    "#normalize data\n",
    "data_embauche_stat /= len(data['embauche'])\n",
    "data_clean_embauche_stat /= len(clean_data['embauche'])\n",
    "\n",
    "x = np.arange(len(labels))  # the label locations\n",
    "\n",
    "width = 0.35  # the width of the bars\n",
    "\n",
    "fig, ax = plt.subplots()\n",
    "rects1 = ax.bar(x - width/2, data_embauche_stat, width, label='initial dataset')\n",
    "rects2 = ax.bar(x + width/2, data_clean_embauche_stat, width, label='cleaned dataset')\n",
    "\n",
    "# Add some text for labels, title and custom x-axis tick labels, etc.\n",
    "ax.set_ylabel('frequency')\n",
    "ax.set_title('embauche frequency for initial and cleaned data group and gender')\n",
    "ax.set_xticks(x)\n",
    "ax.set_xticklabels(labels)\n",
    "ax.legend()"
   ]
  },
  {
   "cell_type": "markdown",
   "metadata": {
    "collapsed": true
   },
   "source": [
    "<br> 0 represente le cas <b> pas d'embauche.</b> \n",
    "<br> 1 represente le cas <b> embauche. </b>\n",
    "<br> Le fait de supprimer l'ensemble des valeurs manquantes de notre jeu de données n'affecte pas \n",
    "la distribution de la variable à prédire i.e embauche. <br> Nous allons donc procéder à cette supression compte tenu aussi du faible nombre de valeurs manquantes (<5%)."
   ]
  },
  {
   "cell_type": "markdown",
   "metadata": {},
   "source": [
    "#### Examinons la correlation lineaire entre les variables numériques du dataset"
   ]
  },
  {
   "cell_type": "markdown",
   "metadata": {},
   "source": [
    "Il n'y a rien de significatif à tirer de cette analyse sauf le fait que les autres variables numériques sont faiblement reliés à la variable cible <b>embauche</b>.\n",
    "<br> Meme la <i>note</i> obtenue à l'exercice de la recherche d'or est très peu correlé à la potentielle embauche."
   ]
  },
  {
   "cell_type": "markdown",
   "metadata": {},
   "source": [
    "#### Visualisation des variables numériques\n"
   ]
  },
  {
   "cell_type": "code",
   "execution_count": 11,
   "metadata": {},
   "outputs": [
    {
     "data": {
      "text/plain": [
       "array([[<matplotlib.axes._subplots.AxesSubplot object at 0x7f1e46f18ba8>,\n",
       "        <matplotlib.axes._subplots.AxesSubplot object at 0x7f1e43686ac8>],\n",
       "       [<matplotlib.axes._subplots.AxesSubplot object at 0x7f1e4363b9e8>,\n",
       "        <matplotlib.axes._subplots.AxesSubplot object at 0x7f1e435f5ac8>],\n",
       "       [<matplotlib.axes._subplots.AxesSubplot object at 0x7f1e435aeac8>,\n",
       "        <matplotlib.axes._subplots.AxesSubplot object at 0x7f1e435aeb00>]],\n",
       "      dtype=object)"
      ]
     },
     "execution_count": 11,
     "metadata": {},
     "output_type": "execute_result"
    },
    {
     "data": {
      "image/png": "[encoded data removed]",
      "text/plain": [
       "<matplotlib.figure.Figure at 0x7f1e46f462e8>"
      ]
     },
     "metadata": {},
     "output_type": "display_data"
    }
   ],
   "source": [
    "clean_data.hist(figsize=(15,20))"
   ]
  },
  {
   "cell_type": "markdown",
   "metadata": {},
   "source": [
    "### 2. Analyse des possibles dependances statistiques"
   ]
  },
  {
   "cell_type": "markdown",
   "metadata": {},
   "source": [
    "#### 2.1 Y'a t'il une dependance statistiquement significative entre la specialité et le sexe?\n",
    "<b> La specialité</b> et le <b> sexe</b> sont tous deux des variables de type categorielle.\n",
    "<br> Afin d'identifier un potentiel lien statistique entre les variables, nous allons procéder à un test d'hypothèse du <b>khi-deux</b>."
   ]
  },
  {
   "cell_type": "code",
   "execution_count": 12,
   "metadata": {
    "collapsed": true
   },
   "outputs": [],
   "source": [
    "X = \"specialite\"\n",
    "Y = \"sexe\"\n",
    "\n",
    "tableau_contengence = clean_data[[X,Y]].pivot_table(index=X,columns=Y,aggfunc=len,margins=True,margins_name=\"Total\")\n"
   ]
  },
  {
   "cell_type": "code",
   "execution_count": 13,
   "metadata": {},
   "outputs": [
    {
     "data": {
      "text/html": [
       "<div>\n",
       "<style>\n",
       "    .dataframe thead tr:only-child th {\n",
       "        text-align: right;\n",
       "    }\n",
       "\n",
       "    .dataframe thead th {\n",
       "        text-align: left;\n",
       "    }\n",
       "\n",
       "    .dataframe tbody tr th {\n",
       "        vertical-align: top;\n",
       "    }\n",
       "</style>\n",
       "<table border=\"1\" class=\"dataframe\">\n",
       "  <thead>\n",
       "    <tr style=\"text-align: right;\">\n",
       "      <th>sexe</th>\n",
       "      <th>F</th>\n",
       "      <th>M</th>\n",
       "      <th>Total</th>\n",
       "    </tr>\n",
       "    <tr>\n",
       "      <th>specialite</th>\n",
       "      <th></th>\n",
       "      <th></th>\n",
       "      <th></th>\n",
       "    </tr>\n",
       "  </thead>\n",
       "  <tbody>\n",
       "    <tr>\n",
       "      <th>archeologie</th>\n",
       "      <td>1042.0</td>\n",
       "      <td>280.0</td>\n",
       "      <td>1322.0</td>\n",
       "    </tr>\n",
       "    <tr>\n",
       "      <th>detective</th>\n",
       "      <td>2409.0</td>\n",
       "      <td>1552.0</td>\n",
       "      <td>3961.0</td>\n",
       "    </tr>\n",
       "    <tr>\n",
       "      <th>forage</th>\n",
       "      <td>1899.0</td>\n",
       "      <td>2261.0</td>\n",
       "      <td>4160.0</td>\n",
       "    </tr>\n",
       "    <tr>\n",
       "      <th>geologie</th>\n",
       "      <td>2316.0</td>\n",
       "      <td>7262.0</td>\n",
       "      <td>9578.0</td>\n",
       "    </tr>\n",
       "    <tr>\n",
       "      <th>Total</th>\n",
       "      <td>7666.0</td>\n",
       "      <td>11355.0</td>\n",
       "      <td>19021.0</td>\n",
       "    </tr>\n",
       "  </tbody>\n",
       "</table>\n",
       "</div>"
      ],
      "text/plain": [
       "sexe              F        M    Total\n",
       "specialite                           \n",
       "archeologie  1042.0    280.0   1322.0\n",
       "detective    2409.0   1552.0   3961.0\n",
       "forage       1899.0   2261.0   4160.0\n",
       "geologie     2316.0   7262.0   9578.0\n",
       "Total        7666.0  11355.0  19021.0"
      ]
     },
     "execution_count": 13,
     "metadata": {},
     "output_type": "execute_result"
    }
   ],
   "source": [
    "tableau_contengence"
   ]
  },
  {
   "cell_type": "markdown",
   "metadata": {},
   "source": [
    "Calculons le tableau que l'on aurait du avoir en cas d'independance des deux evènements."
   ]
  },
  {
   "cell_type": "code",
   "execution_count": 14,
   "metadata": {
    "collapsed": true
   },
   "outputs": [],
   "source": [
    "freq = tableau_contengence.loc['Total',:]/tableau_contengence.loc['Total','Total']"
   ]
  },
  {
   "cell_type": "code",
   "execution_count": 15,
   "metadata": {
    "collapsed": true
   },
   "outputs": [],
   "source": [
    "tableau_contengence_ind = tableau_contengence.copy()"
   ]
  },
  {
   "cell_type": "code",
   "execution_count": 16,
   "metadata": {
    "collapsed": true
   },
   "outputs": [],
   "source": [
    "tableau_contengence.loc['Total', 'Total']\n",
    "\n",
    "for i in tableau_contengence.index:\n",
    "    for j in tableau_contengence_ind.columns:\n",
    "        if i!='Total' and j!='Total':\n",
    "            tableau_contengence_ind.loc[i, j] = round((tableau_contengence_ind.loc['Total', j]/tableau_contengence_ind.loc['Total', 'Total'])*tableau_contengence_ind.loc[i, 'Total'], 1) "
   ]
  },
  {
   "cell_type": "code",
   "execution_count": 17,
   "metadata": {},
   "outputs": [
    {
     "data": {
      "text/html": [
       "<div>\n",
       "<style>\n",
       "    .dataframe thead tr:only-child th {\n",
       "        text-align: right;\n",
       "    }\n",
       "\n",
       "    .dataframe thead th {\n",
       "        text-align: left;\n",
       "    }\n",
       "\n",
       "    .dataframe tbody tr th {\n",
       "        vertical-align: top;\n",
       "    }\n",
       "</style>\n",
       "<table border=\"1\" class=\"dataframe\">\n",
       "  <thead>\n",
       "    <tr style=\"text-align: right;\">\n",
       "      <th>sexe</th>\n",
       "      <th>F</th>\n",
       "      <th>M</th>\n",
       "      <th>Total</th>\n",
       "    </tr>\n",
       "    <tr>\n",
       "      <th>specialite</th>\n",
       "      <th></th>\n",
       "      <th></th>\n",
       "      <th></th>\n",
       "    </tr>\n",
       "  </thead>\n",
       "  <tbody>\n",
       "    <tr>\n",
       "      <th>archeologie</th>\n",
       "      <td>532.8</td>\n",
       "      <td>789.2</td>\n",
       "      <td>1322.0</td>\n",
       "    </tr>\n",
       "    <tr>\n",
       "      <th>detective</th>\n",
       "      <td>1596.4</td>\n",
       "      <td>2364.6</td>\n",
       "      <td>3961.0</td>\n",
       "    </tr>\n",
       "    <tr>\n",
       "      <th>forage</th>\n",
       "      <td>1676.6</td>\n",
       "      <td>2483.4</td>\n",
       "      <td>4160.0</td>\n",
       "    </tr>\n",
       "    <tr>\n",
       "      <th>geologie</th>\n",
       "      <td>3860.2</td>\n",
       "      <td>5717.8</td>\n",
       "      <td>9578.0</td>\n",
       "    </tr>\n",
       "    <tr>\n",
       "      <th>Total</th>\n",
       "      <td>7666.0</td>\n",
       "      <td>11355.0</td>\n",
       "      <td>19021.0</td>\n",
       "    </tr>\n",
       "  </tbody>\n",
       "</table>\n",
       "</div>"
      ],
      "text/plain": [
       "sexe              F        M    Total\n",
       "specialite                           \n",
       "archeologie   532.8    789.2   1322.0\n",
       "detective    1596.4   2364.6   3961.0\n",
       "forage       1676.6   2483.4   4160.0\n",
       "geologie     3860.2   5717.8   9578.0\n",
       "Total        7666.0  11355.0  19021.0"
      ]
     },
     "execution_count": 17,
     "metadata": {},
     "output_type": "execute_result"
    }
   ],
   "source": [
    "tableau_contengence_ind"
   ]
  },
  {
   "cell_type": "code",
   "execution_count": 18,
   "metadata": {},
   "outputs": [
    {
     "name": "stdout",
     "output_type": "stream",
     "text": [
      "1042.0\n",
      "532.8\n",
      "1.diff 509.20000000000005 \n",
      "\n",
      "2.valeur ajoute 486.64534534534545 \n",
      "\n",
      "280.0\n",
      "789.2\n",
      "1.diff -509.20000000000005 \n",
      "\n",
      "2.valeur ajoute 328.54110491637107 \n",
      "\n",
      "2409.0\n",
      "1596.4\n",
      "1.diff 812.5999999999999 \n",
      "\n",
      "2.valeur ajoute 413.62989225757946 \n",
      "\n",
      "1552.0\n",
      "2364.6\n",
      "1.diff -812.5999999999999 \n",
      "\n",
      "2.valeur ajoute 279.2517804279793 \n",
      "\n",
      "1899.0\n",
      "1676.6\n",
      "1.diff 222.4000000000001 \n",
      "\n",
      "2.valeur ajoute 29.5012286770846 \n",
      "\n",
      "2261.0\n",
      "2483.4\n",
      "1.diff -222.4000000000001 \n",
      "\n",
      "2.valeur ajoute 19.916952565031824 \n",
      "\n",
      "2316.0\n",
      "3860.2\n",
      "1.diff -1544.1999999999998 \n",
      "\n",
      "2.valeur ajoute 617.7280037303766 \n",
      "\n",
      "7262.0\n",
      "5717.8\n",
      "1.diff 1544.1999999999998 \n",
      "\n",
      "2.valeur ajoute 417.0404071496029 \n",
      "\n"
     ]
    }
   ],
   "source": [
    "carre_erreur_residuel_pondere = 0\n",
    "\n",
    "for i in tableau_contengence_ind.index:\n",
    "    for j in tableau_contengence_ind.columns:\n",
    "        if i!='Total' and j!='Total':\n",
    "            print(tableau_contengence.loc[i, j])\n",
    "            print(tableau_contengence_ind.loc[i, j])\n",
    "            diff = tableau_contengence.loc[i, j]-tableau_contengence_ind.loc[i, j]      \n",
    "            print('1.diff {} \\n'.format(diff))\n",
    "            diff_carree = diff**2\n",
    "            print('2.valeur ajoute {} \\n'.format(diff_carree/tableau_contengence_ind.loc[i, j]))\n",
    "            carre_erreur_residuel_pondere+= diff_carree/tableau_contengence_ind.loc[i, j]\n",
    "            "
   ]
  },
  {
   "cell_type": "markdown",
   "metadata": {},
   "source": [
    "La distribution Chi-deux demande (tout comme l’analyse de variance) le calcul du degré de liberté, car cette distribution varie de forme en fonction du degré de liberté du tableau croisé. Cependant, le calcul du degré de liberté ne dépend pas du nombre de sujets, mais plutôt du nombre de rangées (Ligne) et de colonnes (Colonne) dans votre tableau croisé.\n",
    "\n",
    "Degré de liberté = (nombre de rangées – 1) X (nombre de colonnes – 1) .e\n",
    "<br> Degré de liberté = (4-1)*(2-1)= <b>3</b>\n",
    "\n",
    "Dans ce cas-ci, le degré de liberté de la distribution Chi-deux est de 1. Il suffit maintenant d'aller comparer cette statistique Chi-deux à la table de distribution Chi-deux paramétrée par le degré de liberté en fonction du niveau de signification choisi (probabilité de se tromper) à 5% i.e <b>p = 0.05</b>. Il sera alors possible ou non de rejeter l'hypothèse nulle d'absence de relation.\n",
    "<br> La règle est la suivante :\n",
    "<br>• Si le khi-carré calculé est inférieur au khi-carré théorique : indépendance\n",
    "<br>• Si le khi-carré calculé est supérieur au khi-carré théorique : dépendance\n",
    "#### TABLE  \n",
    "<img src='image_2.png'>\n"
   ]
  },
  {
   "cell_type": "markdown",
   "metadata": {},
   "source": [
    "le khi-carre calculé (2592.25) est supérieur au khi théorique (7.81) dans notre cas.\n",
    "ON peut donc vraisemblablement rejeté l'hypothèse nulle d'indépendance.\n",
    "<br> Les deux variables sont donc statistiquement <b> dependantes </b>.\n",
    "<br> Une implémentation de ce test est disponible sous <b> scipy </b> \n",
    "chi2_contingency"
   ]
  },
  {
   "cell_type": "code",
   "execution_count": 19,
   "metadata": {},
   "outputs": [
    {
     "data": {
      "text/plain": [
       "(2592.2586573875888, 4, 0.0)"
      ]
     },
     "execution_count": 19,
     "metadata": {},
     "output_type": "execute_result"
    }
   ],
   "source": [
    "from scipy.stats import chi2_contingency\n",
    "tableau_contengence = tableau_contengence.drop('Total', axis=1)\n",
    "vtableau_contengence = tableau_contengence.drop('Total', axis=0)\n",
    "chi2, pvalue, degrees, expected = chi2_contingency(tableau_contengence)\n",
    "chi2, degrees, pvalue"
   ]
  },
  {
   "cell_type": "markdown",
   "metadata": {},
   "source": [
    "#### 2.2 Y'a t'il une dependance statistiquement significative entre la couleur des cheveux et le salaire demandé?\n",
    "<b> La couleur des cheveux</b> est une variable categorielle et le <b> salaire</b> une variable numérique.\n",
    "<br> Afin d'identifier un potentiel lien statistique entre les variables, nous allons procéder à un test <b> ANOVA (Analyse of Variance)</b> ."
   ]
  },
  {
   "cell_type": "code",
   "execution_count": 20,
   "metadata": {},
   "outputs": [
    {
     "name": "stdout",
     "output_type": "stream",
     "text": [
      "somme des carees totales 476491172405.1894\n",
      "somme des carrees expliques 2065099532.8619144\n"
     ]
    },
    {
     "data": {
      "text/plain": [
       "0.004333972279985567"
      ]
     },
     "execution_count": 20,
     "metadata": {},
     "output_type": "execute_result"
    }
   ],
   "source": [
    "X = \"cheveux\" # qualitative\n",
    "Y = \"salaire\" # quantitative\n",
    "\n",
    "\n",
    "def eta_squared(x,y):\n",
    "    moyenne_y = y.mean()\n",
    "    classes = []\n",
    "    for classe in x.unique():\n",
    "        yi_classe = y[x==classe]\n",
    "        classes.append({'ni': len(yi_classe),\n",
    "                        'moyenne_classe': yi_classe.mean()})\n",
    "    # somme des carees totales\n",
    "    SCT = sum([(yj-moyenne_y)**2 for yj in y])\n",
    "    print('somme des carees totales {}'.format(SCT))\n",
    "    # somme des carrees estimees\n",
    "    SCE = sum([c['ni']*(c['moyenne_classe']-moyenne_y)**2 for c in classes])\n",
    "    print('somme des carrees expliques {}'.format(SCE))\n",
    "    return SCE/SCT\n",
    "    \n",
    "eta_squared(clean_data[X],clean_data[Y])"
   ]
  },
  {
   "cell_type": "markdown",
   "metadata": {},
   "source": [
    "#### 2.3 Y'a t'il une dependance statistiquement significative entre le nombre d'années d'experiences et la note de l'exercice ?\n",
    "<b> Le nombre d'années d'experiences</b> est une variable quantitative et la <b> note de l'exercice</b> une variable numérique.\n",
    "<br> Afin d'identifier un potentiel lien statistique entre les variables, nous allons calculer <b>le coefficient de correlation de pearson </b> pour ces variables (car leurs distribution semblent gaussiennes).\n",
    "<b> Dans le cas contraire, on aurait pu utilisé les coefficients de <b>spearman</b> ou de <b>kendall-tau</b> basés sur le rang."
   ]
  },
  {
   "cell_type": "markdown",
   "metadata": {},
   "source": [
    "L'ensemble des variables explicatives comme visualisées plus haut semblent suivre une distribution gaussienne. On peut donc calculer le coefficient de correlation de pearson entre ces deux variables"
   ]
  },
  {
   "cell_type": "code",
   "execution_count": 21,
   "metadata": {
    "scrolled": true
   },
   "outputs": [
    {
     "name": "stdout",
     "output_type": "stream",
     "text": [
      "correlation entre la note et le reste des variables \n",
      "note        1.000000\n",
      "index       0.004936\n",
      "embauche    0.003410\n",
      "age        -0.004261\n",
      "exp        -0.010883\n",
      "salaire    -0.447937\n",
      "Name: note, dtype: float64\n"
     ]
    }
   ],
   "source": [
    "corr = clean_data.corr()\n",
    "print('correlation entre la note et le reste des variables \\n{}'.format(corr['note'].sort_values(ascending=False)))"
   ]
  },
  {
   "cell_type": "markdown",
   "metadata": {},
   "source": [
    "On remarque que les variables etudiées ne sont pas linéairement correlés (coefficient de correlation de pearson de -0.01)"
   ]
  },
  {
   "cell_type": "code",
   "execution_count": 22,
   "metadata": {},
   "outputs": [
    {
     "data": {
      "text/plain": [
       "index         0.0\n",
       "cheveux       0.0\n",
       "age           0.0\n",
       "exp           0.0\n",
       "salaire       0.0\n",
       "sexe          0.0\n",
       "diplome       0.0\n",
       "specialite    0.0\n",
       "note          0.0\n",
       "dispo         0.0\n",
       "embauche      0.0\n",
       "dtype: float64"
      ]
     },
     "execution_count": 22,
     "metadata": {},
     "output_type": "execute_result"
    }
   ],
   "source": [
    "clean_data.isnull().mean()"
   ]
  },
  {
   "cell_type": "markdown",
   "metadata": {},
   "source": [
    "#### Variables à sélectionner"
   ]
  },
  {
   "cell_type": "markdown",
   "metadata": {},
   "source": [
    "Il existe une dependance statistique forte entre le <b> sexe</b> et <b> la specialite</b>, on peut d"
   ]
  },
  {
   "cell_type": "code",
   "execution_count": 23,
   "metadata": {},
   "outputs": [
    {
     "data": {
      "text/plain": [
       "index         0.0\n",
       "cheveux       0.0\n",
       "age           0.0\n",
       "exp           0.0\n",
       "salaire       0.0\n",
       "sexe          0.0\n",
       "diplome       0.0\n",
       "specialite    0.0\n",
       "note          0.0\n",
       "dispo         0.0\n",
       "embauche      0.0\n",
       "dtype: float64"
      ]
     },
     "execution_count": 23,
     "metadata": {},
     "output_type": "execute_result"
    }
   ],
   "source": [
    "clean_data.isnull().mean()"
   ]
  },
  {
   "cell_type": "markdown",
   "metadata": {},
   "source": [
    "### 2. Machine learning"
   ]
  },
  {
   "cell_type": "markdown",
   "metadata": {},
   "source": [
    "#### 2.1 Première approche arbre de décision\n"
   ]
  },
  {
   "cell_type": "code",
   "execution_count": 24,
   "metadata": {},
   "outputs": [
    {
     "data": {
      "text/html": [
       "<div>\n",
       "<style>\n",
       "    .dataframe thead tr:only-child th {\n",
       "        text-align: right;\n",
       "    }\n",
       "\n",
       "    .dataframe thead th {\n",
       "        text-align: left;\n",
       "    }\n",
       "\n",
       "    .dataframe tbody tr th {\n",
       "        vertical-align: top;\n",
       "    }\n",
       "</style>\n",
       "<table border=\"1\" class=\"dataframe\">\n",
       "  <thead>\n",
       "    <tr style=\"text-align: right;\">\n",
       "      <th></th>\n",
       "      <th>index</th>\n",
       "      <th>cheveux</th>\n",
       "      <th>age</th>\n",
       "      <th>exp</th>\n",
       "      <th>salaire</th>\n",
       "      <th>sexe</th>\n",
       "      <th>diplome</th>\n",
       "      <th>specialite</th>\n",
       "      <th>note</th>\n",
       "      <th>dispo</th>\n",
       "      <th>embauche</th>\n",
       "    </tr>\n",
       "  </thead>\n",
       "  <tbody>\n",
       "    <tr>\n",
       "      <th>0</th>\n",
       "      <td>0</td>\n",
       "      <td>roux</td>\n",
       "      <td>25.0</td>\n",
       "      <td>9.0</td>\n",
       "      <td>26803.0</td>\n",
       "      <td>F</td>\n",
       "      <td>licence</td>\n",
       "      <td>geologie</td>\n",
       "      <td>97.08</td>\n",
       "      <td>non</td>\n",
       "      <td>0</td>\n",
       "    </tr>\n",
       "    <tr>\n",
       "      <th>1</th>\n",
       "      <td>1</td>\n",
       "      <td>blond</td>\n",
       "      <td>35.0</td>\n",
       "      <td>13.0</td>\n",
       "      <td>38166.0</td>\n",
       "      <td>M</td>\n",
       "      <td>licence</td>\n",
       "      <td>forage</td>\n",
       "      <td>63.86</td>\n",
       "      <td>non</td>\n",
       "      <td>0</td>\n",
       "    </tr>\n",
       "    <tr>\n",
       "      <th>2</th>\n",
       "      <td>2</td>\n",
       "      <td>blond</td>\n",
       "      <td>29.0</td>\n",
       "      <td>13.0</td>\n",
       "      <td>35207.0</td>\n",
       "      <td>M</td>\n",
       "      <td>licence</td>\n",
       "      <td>geologie</td>\n",
       "      <td>78.50</td>\n",
       "      <td>non</td>\n",
       "      <td>0</td>\n",
       "    </tr>\n",
       "    <tr>\n",
       "      <th>3</th>\n",
       "      <td>4</td>\n",
       "      <td>roux</td>\n",
       "      <td>35.0</td>\n",
       "      <td>6.0</td>\n",
       "      <td>28533.0</td>\n",
       "      <td>F</td>\n",
       "      <td>licence</td>\n",
       "      <td>detective</td>\n",
       "      <td>81.91</td>\n",
       "      <td>non</td>\n",
       "      <td>0</td>\n",
       "    </tr>\n",
       "    <tr>\n",
       "      <th>4</th>\n",
       "      <td>5</td>\n",
       "      <td>chatain</td>\n",
       "      <td>37.0</td>\n",
       "      <td>8.0</td>\n",
       "      <td>38558.0</td>\n",
       "      <td>M</td>\n",
       "      <td>master</td>\n",
       "      <td>geologie</td>\n",
       "      <td>63.46</td>\n",
       "      <td>non</td>\n",
       "      <td>1</td>\n",
       "    </tr>\n",
       "  </tbody>\n",
       "</table>\n",
       "</div>"
      ],
      "text/plain": [
       "   index  cheveux   age   exp  salaire sexe  diplome specialite   note dispo  \\\n",
       "0      0     roux  25.0   9.0  26803.0    F  licence   geologie  97.08   non   \n",
       "1      1    blond  35.0  13.0  38166.0    M  licence     forage  63.86   non   \n",
       "2      2    blond  29.0  13.0  35207.0    M  licence   geologie  78.50   non   \n",
       "3      4     roux  35.0   6.0  28533.0    F  licence  detective  81.91   non   \n",
       "4      5  chatain  37.0   8.0  38558.0    M   master   geologie  63.46   non   \n",
       "\n",
       "   embauche  \n",
       "0         0  \n",
       "1         0  \n",
       "2         0  \n",
       "3         0  \n",
       "4         1  "
      ]
     },
     "execution_count": 24,
     "metadata": {},
     "output_type": "execute_result"
    }
   ],
   "source": [
    "clean_data.head()\n"
   ]
  },
  {
   "cell_type": "code",
   "execution_count": 25,
   "metadata": {},
   "outputs": [
    {
     "data": {
      "text/html": [
       "<div>\n",
       "<style>\n",
       "    .dataframe thead tr:only-child th {\n",
       "        text-align: right;\n",
       "    }\n",
       "\n",
       "    .dataframe thead th {\n",
       "        text-align: left;\n",
       "    }\n",
       "\n",
       "    .dataframe tbody tr th {\n",
       "        vertical-align: top;\n",
       "    }\n",
       "</style>\n",
       "<table border=\"1\" class=\"dataframe\">\n",
       "  <thead>\n",
       "    <tr style=\"text-align: right;\">\n",
       "      <th></th>\n",
       "      <th>index</th>\n",
       "      <th>cheveux</th>\n",
       "      <th>age</th>\n",
       "      <th>exp</th>\n",
       "      <th>salaire</th>\n",
       "      <th>sexe</th>\n",
       "      <th>diplome</th>\n",
       "      <th>specialite</th>\n",
       "      <th>note</th>\n",
       "      <th>dispo</th>\n",
       "      <th>embauche</th>\n",
       "    </tr>\n",
       "  </thead>\n",
       "  <tbody>\n",
       "    <tr>\n",
       "      <th>0</th>\n",
       "      <td>0</td>\n",
       "      <td>roux</td>\n",
       "      <td>25.0</td>\n",
       "      <td>9.0</td>\n",
       "      <td>26803.0</td>\n",
       "      <td>F</td>\n",
       "      <td>licence</td>\n",
       "      <td>geologie</td>\n",
       "      <td>97.08</td>\n",
       "      <td>non</td>\n",
       "      <td>0</td>\n",
       "    </tr>\n",
       "    <tr>\n",
       "      <th>1</th>\n",
       "      <td>1</td>\n",
       "      <td>blond</td>\n",
       "      <td>35.0</td>\n",
       "      <td>13.0</td>\n",
       "      <td>38166.0</td>\n",
       "      <td>M</td>\n",
       "      <td>licence</td>\n",
       "      <td>forage</td>\n",
       "      <td>63.86</td>\n",
       "      <td>non</td>\n",
       "      <td>0</td>\n",
       "    </tr>\n",
       "    <tr>\n",
       "      <th>2</th>\n",
       "      <td>2</td>\n",
       "      <td>blond</td>\n",
       "      <td>29.0</td>\n",
       "      <td>13.0</td>\n",
       "      <td>35207.0</td>\n",
       "      <td>M</td>\n",
       "      <td>licence</td>\n",
       "      <td>geologie</td>\n",
       "      <td>78.50</td>\n",
       "      <td>non</td>\n",
       "      <td>0</td>\n",
       "    </tr>\n",
       "    <tr>\n",
       "      <th>3</th>\n",
       "      <td>4</td>\n",
       "      <td>roux</td>\n",
       "      <td>35.0</td>\n",
       "      <td>6.0</td>\n",
       "      <td>28533.0</td>\n",
       "      <td>F</td>\n",
       "      <td>licence</td>\n",
       "      <td>detective</td>\n",
       "      <td>81.91</td>\n",
       "      <td>non</td>\n",
       "      <td>0</td>\n",
       "    </tr>\n",
       "    <tr>\n",
       "      <th>4</th>\n",
       "      <td>5</td>\n",
       "      <td>chatain</td>\n",
       "      <td>37.0</td>\n",
       "      <td>8.0</td>\n",
       "      <td>38558.0</td>\n",
       "      <td>M</td>\n",
       "      <td>master</td>\n",
       "      <td>geologie</td>\n",
       "      <td>63.46</td>\n",
       "      <td>non</td>\n",
       "      <td>1</td>\n",
       "    </tr>\n",
       "  </tbody>\n",
       "</table>\n",
       "</div>"
      ],
      "text/plain": [
       "   index  cheveux   age   exp  salaire sexe  diplome specialite   note dispo  \\\n",
       "0      0     roux  25.0   9.0  26803.0    F  licence   geologie  97.08   non   \n",
       "1      1    blond  35.0  13.0  38166.0    M  licence     forage  63.86   non   \n",
       "2      2    blond  29.0  13.0  35207.0    M  licence   geologie  78.50   non   \n",
       "3      4     roux  35.0   6.0  28533.0    F  licence  detective  81.91   non   \n",
       "4      5  chatain  37.0   8.0  38558.0    M   master   geologie  63.46   non   \n",
       "\n",
       "   embauche  \n",
       "0         0  \n",
       "1         0  \n",
       "2         0  \n",
       "3         0  \n",
       "4         1  "
      ]
     },
     "execution_count": 25,
     "metadata": {},
     "output_type": "execute_result"
    }
   ],
   "source": [
    "clean_data.head()"
   ]
  },
  {
   "cell_type": "code",
   "execution_count": 26,
   "metadata": {},
   "outputs": [],
   "source": [
    "labels_to_keep = list(set(clean_data.select_dtypes(exclude=['number']))-set(['date', 'embauche']))\n",
    "cat_features = clean_data[labels_to_keep]\n",
    "num_features = clean_data.loc[:,['age', 'exp', 'salaire', 'note']]\n",
    "labels = clean_data.loc[:, 'embauche']"
   ]
  },
  {
   "cell_type": "code",
   "execution_count": 27,
   "metadata": {},
   "outputs": [
    {
     "data": {
      "text/html": [
       "<div>\n",
       "<style>\n",
       "    .dataframe thead tr:only-child th {\n",
       "        text-align: right;\n",
       "    }\n",
       "\n",
       "    .dataframe thead th {\n",
       "        text-align: left;\n",
       "    }\n",
       "\n",
       "    .dataframe tbody tr th {\n",
       "        vertical-align: top;\n",
       "    }\n",
       "</style>\n",
       "<table border=\"1\" class=\"dataframe\">\n",
       "  <thead>\n",
       "    <tr style=\"text-align: right;\">\n",
       "      <th></th>\n",
       "      <th>age</th>\n",
       "      <th>exp</th>\n",
       "      <th>salaire</th>\n",
       "      <th>note</th>\n",
       "    </tr>\n",
       "  </thead>\n",
       "  <tbody>\n",
       "    <tr>\n",
       "      <th>0</th>\n",
       "      <td>25.0</td>\n",
       "      <td>9.0</td>\n",
       "      <td>26803.0</td>\n",
       "      <td>97.08</td>\n",
       "    </tr>\n",
       "    <tr>\n",
       "      <th>1</th>\n",
       "      <td>35.0</td>\n",
       "      <td>13.0</td>\n",
       "      <td>38166.0</td>\n",
       "      <td>63.86</td>\n",
       "    </tr>\n",
       "    <tr>\n",
       "      <th>2</th>\n",
       "      <td>29.0</td>\n",
       "      <td>13.0</td>\n",
       "      <td>35207.0</td>\n",
       "      <td>78.50</td>\n",
       "    </tr>\n",
       "    <tr>\n",
       "      <th>3</th>\n",
       "      <td>35.0</td>\n",
       "      <td>6.0</td>\n",
       "      <td>28533.0</td>\n",
       "      <td>81.91</td>\n",
       "    </tr>\n",
       "    <tr>\n",
       "      <th>4</th>\n",
       "      <td>37.0</td>\n",
       "      <td>8.0</td>\n",
       "      <td>38558.0</td>\n",
       "      <td>63.46</td>\n",
       "    </tr>\n",
       "  </tbody>\n",
       "</table>\n",
       "</div>"
      ],
      "text/plain": [
       "    age   exp  salaire   note\n",
       "0  25.0   9.0  26803.0  97.08\n",
       "1  35.0  13.0  38166.0  63.86\n",
       "2  29.0  13.0  35207.0  78.50\n",
       "3  35.0   6.0  28533.0  81.91\n",
       "4  37.0   8.0  38558.0  63.46"
      ]
     },
     "execution_count": 27,
     "metadata": {},
     "output_type": "execute_result"
    }
   ],
   "source": [
    "num_features.head()"
   ]
  },
  {
   "cell_type": "code",
   "execution_count": 28,
   "metadata": {},
   "outputs": [
    {
     "data": {
      "text/html": [
       "<div>\n",
       "<style>\n",
       "    .dataframe thead tr:only-child th {\n",
       "        text-align: right;\n",
       "    }\n",
       "\n",
       "    .dataframe thead th {\n",
       "        text-align: left;\n",
       "    }\n",
       "\n",
       "    .dataframe tbody tr th {\n",
       "        vertical-align: top;\n",
       "    }\n",
       "</style>\n",
       "<table border=\"1\" class=\"dataframe\">\n",
       "  <thead>\n",
       "    <tr style=\"text-align: right;\">\n",
       "      <th></th>\n",
       "      <th>cheveux</th>\n",
       "      <th>sexe</th>\n",
       "      <th>diplome</th>\n",
       "      <th>specialite</th>\n",
       "      <th>dispo</th>\n",
       "    </tr>\n",
       "  </thead>\n",
       "  <tbody>\n",
       "    <tr>\n",
       "      <th>0</th>\n",
       "      <td>roux</td>\n",
       "      <td>F</td>\n",
       "      <td>licence</td>\n",
       "      <td>geologie</td>\n",
       "      <td>non</td>\n",
       "    </tr>\n",
       "    <tr>\n",
       "      <th>1</th>\n",
       "      <td>blond</td>\n",
       "      <td>M</td>\n",
       "      <td>licence</td>\n",
       "      <td>forage</td>\n",
       "      <td>non</td>\n",
       "    </tr>\n",
       "    <tr>\n",
       "      <th>2</th>\n",
       "      <td>blond</td>\n",
       "      <td>M</td>\n",
       "      <td>licence</td>\n",
       "      <td>geologie</td>\n",
       "      <td>non</td>\n",
       "    </tr>\n",
       "    <tr>\n",
       "      <th>3</th>\n",
       "      <td>roux</td>\n",
       "      <td>F</td>\n",
       "      <td>licence</td>\n",
       "      <td>detective</td>\n",
       "      <td>non</td>\n",
       "    </tr>\n",
       "    <tr>\n",
       "      <th>4</th>\n",
       "      <td>chatain</td>\n",
       "      <td>M</td>\n",
       "      <td>master</td>\n",
       "      <td>geologie</td>\n",
       "      <td>non</td>\n",
       "    </tr>\n",
       "  </tbody>\n",
       "</table>\n",
       "</div>"
      ],
      "text/plain": [
       "   cheveux sexe  diplome specialite dispo\n",
       "0     roux    F  licence   geologie   non\n",
       "1    blond    M  licence     forage   non\n",
       "2    blond    M  licence   geologie   non\n",
       "3     roux    F  licence  detective   non\n",
       "4  chatain    M   master   geologie   non"
      ]
     },
     "execution_count": 28,
     "metadata": {},
     "output_type": "execute_result"
    }
   ],
   "source": [
    "cat_features.head()"
   ]
  },
  {
   "cell_type": "code",
   "execution_count": 29,
   "metadata": {
    "collapsed": true
   },
   "outputs": [],
   "source": [
    "# Import des libraries classique (numpy, pandas, ...)\n",
    "import pandas as pd\n",
    "import numpy as np\n",
    "import re\n",
    "import seaborn as sb\n",
    "from matplotlib import pyplot as plt\n",
    "from sklearn.model_selection import StratifiedShuffleSplit, GridSearchCV\n",
    "from sklearn.preprocessing import OneHotEncoder, MultiLabelBinarizer\n",
    "from sklearn.ensemble import RandomForestClassifier\n",
    "from sklearn.metrics import accuracy_score, silhouette_score, confusion_matrix\n",
    "from sklearn.pipeline import Pipeline, FeatureUnion\n",
    "from sklearn.cluster import KMeans\n",
    "from sklearn.decomposition import TruncatedSVD, PCA\n",
    "from sklearn import svm\n",
    "from sklearn.base import BaseEstimator, TransformerMixin\n",
    "from sklearn.tree import DecisionTreeClassifier\n",
    "%matplotlib inline\n",
    "plt.style.use('ggplot')\n"
   ]
  },
  {
   "cell_type": "code",
   "execution_count": 30,
   "metadata": {
    "collapsed": true
   },
   "outputs": [],
   "source": [
    "class DataFrameSelector(BaseEstimator, TransformerMixin):\n",
    "    \"\"\"select column(s) of the dataframe\"\"\"\n",
    "\n",
    "    def __init__(self, attribute_names):\n",
    "        self.attribute_names = attribute_names\n",
    "\n",
    "    def fit(self, attribute_names):\n",
    "        return self\n",
    "\n",
    "    def transform(self, X):\n",
    "        encoder = OneHotEncoder()\n",
    "        X = pd.get_dummies((X[self.attribute_names]))\n",
    "        return X\n",
    "    "
   ]
  },
  {
   "cell_type": "code",
   "execution_count": 31,
   "metadata": {},
   "outputs": [],
   "source": [
    "def dummies_categorical_var(dataframe):\n",
    "    \"\"\"\n",
    "    create dummies variables from categorical\n",
    "    INPUT\n",
    "    -single_label_list: column with unique label per row\n",
    "    -multi_label_list : column with multiple label per row\n",
    "    -dataframe: dataframe with all this columns\n",
    "    OUTPUT\n",
    "    -return a dataframe with dummies variables\n",
    "    \"\"\"\n",
    "    # mettre en place les controles\n",
    "\n",
    "    # mettre en place des pipelines de donnees en s'appuyant sur le typage\n",
    "    # canard du Pipeline de sklearn\n",
    "    single_label_list = dataframe.columns\n",
    "    \n",
    "    pipeline_mono = Pipeline(\n",
    "        [(\"one_hot_encoding\", DataFrameSelector(single_label_list))]\n",
    "    )\n",
    "\n",
    "\n",
    "\n",
    "    # convertir les variables en valeurs numeriques\n",
    "    data_with_dummies = pipeline_mono.fit_transform(dataframe)\n",
    "\n",
    "\n",
    "    return data_with_dummies\n",
    "\n",
    "\n"
   ]
  },
  {
   "cell_type": "code",
   "execution_count": 33,
   "metadata": {},
   "outputs": [],
   "source": [
    "from sklearn.model_selection import train_test_split\n",
    "cat_dummies = dummies_categorical_var(cat_features)\n",
    "features = pd.concat([cat_dummies,num_features], axis=1)\n",
    "from sklearn.preprocessing import MinMaxScaler\n",
    "\n",
    "pre_processer = MinMaxScaler()\n",
    "#features_trans = pre_processer.fit_transform(features)\n",
    "#features = pd.DataFrame(features_trans, columns= features.columns)\n",
    "\n",
    "# on va ici diviser le dataframe en 80% pour l'apprentissage et 20% pour le test\n",
    "split = StratifiedShuffleSplit(n_splits=1, random_state=42)\n",
    "for train_index, test_index in split.split(clean_data, clean_data['embauche']):\n",
    "    train_set = features.loc[train_index, :]\n",
    "    train_label = labels[train_index]\n",
    "    test_set = features.loc[test_index, :]\n",
    "    test_label = labels[test_index]\n",
    "    "
   ]
  },
  {
   "cell_type": "code",
   "execution_count": 35,
   "metadata": {},
   "outputs": [
    {
     "data": {
      "text/plain": [
       "cheveux_blond             0.0\n",
       "cheveux_brun              0.0\n",
       "cheveux_chatain           0.0\n",
       "cheveux_roux              0.0\n",
       "sexe_F                    0.0\n",
       "sexe_M                    0.0\n",
       "diplome_bac               0.0\n",
       "diplome_doctorat          0.0\n",
       "diplome_licence           0.0\n",
       "diplome_master            0.0\n",
       "specialite_archeologie    0.0\n",
       "specialite_detective      0.0\n",
       "specialite_forage         0.0\n",
       "specialite_geologie       0.0\n",
       "dispo_non                 0.0\n",
       "dispo_oui                 0.0\n",
       "age                       0.0\n",
       "exp                       0.0\n",
       "salaire                   0.0\n",
       "note                      0.0\n",
       "dtype: float64"
      ]
     },
     "execution_count": 35,
     "metadata": {},
     "output_type": "execute_result"
    }
   ],
   "source": [
    "pd.DataFrame(train_set).isnull().mean()"
   ]
  },
  {
   "cell_type": "code",
   "execution_count": 37,
   "metadata": {},
   "outputs": [
    {
     "name": "stdout",
     "output_type": "stream",
     "text": [
      "Fitting 4 folds for each of 24 candidates, totalling 96 fits\n"
     ]
    },
    {
     "name": "stderr",
     "output_type": "stream",
     "text": [
      "[Parallel(n_jobs=-1)]: Using backend LokyBackend with 4 concurrent workers.\n",
      "[Parallel(n_jobs=-1)]: Done  33 tasks      | elapsed:  1.0min\n",
      "/home/cursedomonstro/anaconda3/lib/python3.6/site-packages/joblib/externals/loky/process_executor.py:706: UserWarning: A worker stopped while some jobs were given to the executor. This can be caused by a too short worker timeout or by a memory leak.\n",
      "  \"timeout or by a memory leak.\", UserWarning\n",
      "[Parallel(n_jobs=-1)]: Done  96 out of  96 | elapsed:  4.7min finished\n"
     ]
    },
    {
     "name": "stdout",
     "output_type": "stream",
     "text": [
      "f1 score : 60.50420168067227% \n",
      "\n",
      "columnes matrice confusion [0, 1]\n",
      "matrice de confusion \n",
      " [[1654   31]\n",
      " [ 110  108]] \n"
     ]
    }
   ],
   "source": [
    "from sklearn.metrics import f1_score, accuracy_score, make_scorer\n",
    "f1 = make_scorer(f1_score , average='macro')\n",
    "\n",
    "def tree_param_selection(data_set, label_set, nfolds):\n",
    "    \"\"\"predire les metiers manquants\n",
    "    Parametres\n",
    "    ----------\n",
    "    data_set : jeu de donnees ne contenant que les metiers manquants\n",
    "    label_set : modele de prediction charge d'effectuer la prediction\n",
    "    nfolds : nombre de groupe pour la cross validation\n",
    "    Returns\n",
    "    -------\n",
    "    best_estimator : meilleur estimateur\n",
    "    \"\"\"\n",
    "    \n",
    "    # Number of trees in random forest\n",
    "    n_estimators = [100, 200, 500]\n",
    "    # Number of features to consider at every split\n",
    "    max_features = [\"auto\", \"log2\", \"sqrt\", None]\n",
    "    # Method of selecting samples for training each tree\n",
    "    bootstrap = [True, False]\n",
    "\n",
    "    param_grid = {\n",
    "        \"n_estimators\": n_estimators,\n",
    "        \"max_features\": max_features,\n",
    "        \"bootstrap\": bootstrap,\n",
    "    }\n",
    "    grid_search = GridSearchCV(\n",
    "        estimator=RandomForestClassifier(),\n",
    "        param_grid=param_grid,\n",
    "        scoring=f1,\n",
    "        cv=nfolds,\n",
    "        verbose=2,\n",
    "        n_jobs=-1,\n",
    "    )\n",
    "    grid_search.fit(data_set, label_set)\n",
    "    best_estimator = grid_search.best_estimator_\n",
    "    return best_estimator\n",
    "\n",
    "n_folds = 4\n",
    "tree_clf = tree_param_selection(train_set, train_label, n_folds)\n",
    "# prediction on test_set\n",
    "prediction_test_set = tree_clf.predict(test_set)\n",
    "print(\n",
    "    \"f1 score : {}% \\n\".format(\n",
    "        f1_score(test_label, prediction_test_set) * 100\n",
    "    )\n",
    ")\n",
    "\n",
    "# calculer la matrice de confusion\n",
    "confusion_matrice = confusion_matrix(\n",
    "    test_label, prediction_test_set, labels=list(np\n",
    "                                               .unique(test_label))\n",
    ")\n",
    "print('columnes matrice confusion {}'.format(list(np.unique(test_label))))\n",
    "print(\"matrice de confusion \\n {} \".format(confusion_matrice))"
   ]
  },
  {
   "cell_type": "code",
   "execution_count": null,
   "metadata": {},
   "outputs": [],
   "source": [
    "def svc_param_selection(data_set, label_set, nfolds):\n",
    "    \"\"\"predire les metiers manquants\n",
    "    Parametres\n",
    "    ----------\n",
    "    data_set : jeu de donnees ne contenant que les metiers manquants\n",
    "    label_set : modele de prediction charge d'effectuer la prediction\n",
    "    nfolds : nombre de groupe pour la cross validation\n",
    "    Returns\n",
    "    -------\n",
    "    best_estimator : meilleur estimateur\n",
    "    \"\"\"\n",
    "    Cs = [10, 0.1, 1]\n",
    "    gammas = [0.01, 0.1, 1, 10]\n",
    "    kernel = [\"rbf\", \"sigmoid\", \"linear\"]\n",
    "    param_grid = {\"C\": Cs, \"gamma\": gammas, \"kernel\": kernel}\n",
    "    grid_search = GridSearchCV(\n",
    "        estimator=svm.SVC(),\n",
    "        param_grid=param_grid,\n",
    "        cv=nfolds,\n",
    "        scoring=f1,\n",
    "        verbose=2,\n",
    "        n_jobs=-1,\n",
    "    )\n",
    "    grid_search.fit(data_set, label_set)\n",
    "    best_estimator = grid_search.best_estimator_\n",
    "    return best_estimator\n",
    "\n",
    "\n",
    "modele_svm = svc_param_selection(train_set, train_label, n_folds)\n",
    "# prediction on test_set\n",
    "prediction_test_set = modele_svm.predict(test_set)\n",
    "print(\n",
    "    \"accuracy on test set : {}% \\n\".format(\n",
    "        f1_score(test_label, prediction_test_set)\n",
    "    )\n",
    ")\n",
    "# calculer la matrice de confusion\n",
    "confusion_matrice = confusion_matrix(\n",
    "    test_label, prediction_test_set, labels=list(np.unique(test_label))\n",
    ")\n",
    "print('columnes matrice confusion {}'.format(list(np.unique(test_label))))\n",
    "print(\"matrice de confusion \\n {} \".format(confusion_matrice))"
   ]
  },
  {
   "cell_type": "code",
   "execution_count": null,
   "metadata": {},
   "outputs": [],
   "source": []
  },
  {
   "cell_type": "code",
   "execution_count": null,
   "metadata": {},
   "outputs": [],
   "source": [
    "data['embauche'].value_counts()/len(data)"
   ]
  },
  {
   "cell_type": "code",
   "execution_count": null,
   "metadata": {
    "collapsed": true
   },
   "outputs": [],
   "source": []
  }
 ],
 "metadata": {
  "kernelspec": {
   "display_name": "Python 3",
   "language": "python",
   "name": "python3"
  },
  "language_info": {
   "codemirror_mode": {
    "name": "ipython",
    "version": 3
   },
   "file_extension": ".py",
   "mimetype": "text/x-python",
   "name": "python",
   "nbconvert_exporter": "python",
   "pygments_lexer": "ipython3",
   "version": "3.6.3"
  }
 },
 "nbformat": 4,
 "nbformat_minor": 2
}
