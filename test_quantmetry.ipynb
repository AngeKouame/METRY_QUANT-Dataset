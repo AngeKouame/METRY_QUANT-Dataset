{
 "cells": [
  {
   "cell_type": "markdown",
   "metadata": {
    "collapsed": true
   },
   "source": [
    "#### NOTEBOOK DE REPONSES #####\n",
    "La version de python utilisé est la 3.7"
   ]
  },
  {
   "cell_type": "code",
   "execution_count": 1,
   "metadata": {},
   "outputs": [],
   "source": [
    "# importation des differentes librairies\n",
    "import pandas as pd\n",
    "import numpy as np\n",
    "import matplotlib.pyplot as plt\n",
    "import datetime\n",
    "%matplotlib inline\n",
    "from sklearn.model_selection import (StratifiedShuffleSplit,\n",
    "                                     GridSearchCV)\n",
    "from sklearn.preprocessing import OneHotEncoder\n",
    "from sklearn.ensemble import RandomForestClassifier\n",
    "from sklearn.metrics import (accuracy_score, \n",
    "                             silhouette_score,\n",
    "                             confusion_matrix,\n",
    "                             matthews_corrcoef)\n",
    "from sklearn.pipeline import Pipeline\n",
    "from sklearn.cluster import KMeans\n",
    "from scipy.stats import chi2_contingency\n",
    "from sklearn.preprocessing import MinMaxScaler\n",
    "from sklearn.metrics import (f1_score, \n",
    "                             accuracy_score,\n",
    "                             make_scorer)\n",
    "from scipy.stats import (kendalltau,\n",
    "                         spearmanr)\n",
    "%matplotlib inline\n",
    "plt.style.use('ggplot')"
   ]
  },
  {
   "cell_type": "markdown",
   "metadata": {},
   "source": [
    "### 1- Statistiques descriptives"
   ]
  },
  {
   "cell_type": "markdown",
   "metadata": {},
   "source": [
    "#### 1. Description du jeu de données:\n",
    "<i>Presentation des analyses et des éventuels retraitements</i>.\n",
    "<br> <i>Conclusion sur les variables pertinentes à selectionner</i>."
   ]
  },
  {
   "cell_type": "code",
   "execution_count": 2,
   "metadata": {},
   "outputs": [
    {
     "data": {
      "text/html": [
       "<div>\n",
       "<style scoped>\n",
       "    .dataframe tbody tr th:only-of-type {\n",
       "        vertical-align: middle;\n",
       "    }\n",
       "\n",
       "    .dataframe tbody tr th {\n",
       "        vertical-align: top;\n",
       "    }\n",
       "\n",
       "    .dataframe thead th {\n",
       "        text-align: right;\n",
       "    }\n",
       "</style>\n",
       "<table border=\"1\" class=\"dataframe\">\n",
       "  <thead>\n",
       "    <tr style=\"text-align: right;\">\n",
       "      <th></th>\n",
       "      <th>Unnamed: 0</th>\n",
       "      <th>date</th>\n",
       "      <th>cheveux</th>\n",
       "      <th>age</th>\n",
       "      <th>exp</th>\n",
       "      <th>salaire</th>\n",
       "      <th>sexe</th>\n",
       "      <th>diplome</th>\n",
       "      <th>specialite</th>\n",
       "      <th>note</th>\n",
       "      <th>dispo</th>\n",
       "      <th>embauche</th>\n",
       "    </tr>\n",
       "    <tr>\n",
       "      <th>index</th>\n",
       "      <th></th>\n",
       "      <th></th>\n",
       "      <th></th>\n",
       "      <th></th>\n",
       "      <th></th>\n",
       "      <th></th>\n",
       "      <th></th>\n",
       "      <th></th>\n",
       "      <th></th>\n",
       "      <th></th>\n",
       "      <th></th>\n",
       "      <th></th>\n",
       "    </tr>\n",
       "  </thead>\n",
       "  <tbody>\n",
       "    <tr>\n",
       "      <td>0</td>\n",
       "      <td>0</td>\n",
       "      <td>2012-06-02</td>\n",
       "      <td>roux</td>\n",
       "      <td>25.0</td>\n",
       "      <td>9.0</td>\n",
       "      <td>26803.0</td>\n",
       "      <td>F</td>\n",
       "      <td>licence</td>\n",
       "      <td>geologie</td>\n",
       "      <td>97.08</td>\n",
       "      <td>non</td>\n",
       "      <td>0</td>\n",
       "    </tr>\n",
       "    <tr>\n",
       "      <td>1</td>\n",
       "      <td>1</td>\n",
       "      <td>2011-04-21</td>\n",
       "      <td>blond</td>\n",
       "      <td>35.0</td>\n",
       "      <td>13.0</td>\n",
       "      <td>38166.0</td>\n",
       "      <td>M</td>\n",
       "      <td>licence</td>\n",
       "      <td>forage</td>\n",
       "      <td>63.86</td>\n",
       "      <td>non</td>\n",
       "      <td>0</td>\n",
       "    </tr>\n",
       "    <tr>\n",
       "      <td>2</td>\n",
       "      <td>2</td>\n",
       "      <td>2012-09-07</td>\n",
       "      <td>blond</td>\n",
       "      <td>29.0</td>\n",
       "      <td>13.0</td>\n",
       "      <td>35207.0</td>\n",
       "      <td>M</td>\n",
       "      <td>licence</td>\n",
       "      <td>geologie</td>\n",
       "      <td>78.50</td>\n",
       "      <td>non</td>\n",
       "      <td>0</td>\n",
       "    </tr>\n",
       "    <tr>\n",
       "      <td>3</td>\n",
       "      <td>3</td>\n",
       "      <td>2011-07-01</td>\n",
       "      <td>brun</td>\n",
       "      <td>NaN</td>\n",
       "      <td>12.0</td>\n",
       "      <td>32442.0</td>\n",
       "      <td>M</td>\n",
       "      <td>licence</td>\n",
       "      <td>geologie</td>\n",
       "      <td>45.09</td>\n",
       "      <td>non</td>\n",
       "      <td>0</td>\n",
       "    </tr>\n",
       "    <tr>\n",
       "      <td>4</td>\n",
       "      <td>4</td>\n",
       "      <td>2012-08-07</td>\n",
       "      <td>roux</td>\n",
       "      <td>35.0</td>\n",
       "      <td>6.0</td>\n",
       "      <td>28533.0</td>\n",
       "      <td>F</td>\n",
       "      <td>licence</td>\n",
       "      <td>detective</td>\n",
       "      <td>81.91</td>\n",
       "      <td>non</td>\n",
       "      <td>0</td>\n",
       "    </tr>\n",
       "  </tbody>\n",
       "</table>\n",
       "</div>"
      ],
      "text/plain": [
       "       Unnamed: 0        date cheveux   age   exp  salaire sexe  diplome  \\\n",
       "index                                                                      \n",
       "0               0  2012-06-02    roux  25.0   9.0  26803.0    F  licence   \n",
       "1               1  2011-04-21   blond  35.0  13.0  38166.0    M  licence   \n",
       "2               2  2012-09-07   blond  29.0  13.0  35207.0    M  licence   \n",
       "3               3  2011-07-01    brun   NaN  12.0  32442.0    M  licence   \n",
       "4               4  2012-08-07    roux  35.0   6.0  28533.0    F  licence   \n",
       "\n",
       "      specialite   note dispo  embauche  \n",
       "index                                    \n",
       "0       geologie  97.08   non         0  \n",
       "1         forage  63.86   non         0  \n",
       "2       geologie  78.50   non         0  \n",
       "3       geologie  45.09   non         0  \n",
       "4      detective  81.91   non         0  "
      ]
     },
     "execution_count": 2,
     "metadata": {},
     "output_type": "execute_result"
    }
   ],
   "source": [
    "# lecture du dataset\n",
    "filename = 'data_v1.0 .csv'\n",
    "data = pd.read_csv(filename, index_col='index')\n",
    "# Visualisation  des données\n",
    "data.head()"
   ]
  },
  {
   "cell_type": "code",
   "execution_count": 3,
   "metadata": {},
   "outputs": [
    {
     "name": "stdout",
     "output_type": "stream",
     "text": [
      "<class 'pandas.core.frame.DataFrame'>\n",
      "Int64Index: 20000 entries, 0 to 19999\n",
      "Data columns (total 12 columns):\n",
      "Unnamed: 0    20000 non-null int64\n",
      "date          19909 non-null object\n",
      "cheveux       19897 non-null object\n",
      "age           19909 non-null float64\n",
      "exp           19904 non-null float64\n",
      "salaire       19905 non-null float64\n",
      "sexe          19900 non-null object\n",
      "diplome       19890 non-null object\n",
      "specialite    19907 non-null object\n",
      "note          19886 non-null float64\n",
      "dispo         19894 non-null object\n",
      "embauche      20000 non-null int64\n",
      "dtypes: float64(4), int64(2), object(6)\n",
      "memory usage: 2.0+ MB\n"
     ]
    }
   ],
   "source": [
    "#avoir des infos sur les données\n",
    "data.info()"
   ]
  },
  {
   "cell_type": "code",
   "execution_count": 4,
   "metadata": {},
   "outputs": [],
   "source": [
    "# suppression de la premiere colonne non informative\n",
    "data = data.drop(data.columns[0], axis=1)\n"
   ]
  },
  {
   "cell_type": "code",
   "execution_count": 5,
   "metadata": {},
   "outputs": [
    {
     "name": "stdout",
     "output_type": "stream",
     "text": [
      "<class 'pandas.core.frame.DataFrame'>\n",
      "Int64Index: 20000 entries, 0 to 19999\n",
      "Data columns (total 11 columns):\n",
      "date          19909 non-null datetime64[ns]\n",
      "cheveux       19897 non-null object\n",
      "age           19909 non-null float64\n",
      "exp           19904 non-null float64\n",
      "salaire       19905 non-null float64\n",
      "sexe          19900 non-null object\n",
      "diplome       19890 non-null object\n",
      "specialite    19907 non-null object\n",
      "note          19886 non-null float64\n",
      "dispo         19894 non-null object\n",
      "embauche      20000 non-null int64\n",
      "dtypes: datetime64[ns](1), float64(4), int64(1), object(5)\n",
      "memory usage: 1.8+ MB\n"
     ]
    }
   ],
   "source": [
    "#convertir dans un format date adequat\n",
    "data['date'] = pd.to_datetime(data['date'],\n",
    "                              format='%Y-%m-%d')\n",
    "# informations generale sur le dataset\n",
    "data.info()"
   ]
  },
  {
   "cell_type": "code",
   "execution_count": 6,
   "metadata": {},
   "outputs": [
    {
     "name": "stdout",
     "output_type": "stream",
     "text": [
      "valeurs manquantes par columnes:\n",
      "date          0.455\n",
      "cheveux       0.515\n",
      "age           0.455\n",
      "exp           0.480\n",
      "salaire       0.475\n",
      "sexe          0.500\n",
      "diplome       0.550\n",
      "specialite    0.465\n",
      "note          0.570\n",
      "dispo         0.530\n",
      "embauche      0.000\n",
      "dtype: float64\n"
     ]
    }
   ],
   "source": [
    "print('valeurs manquantes par columnes:\\n{}'.format(data.isnull().mean()*100))"
   ]
  },
  {
   "cell_type": "markdown",
   "metadata": {},
   "source": [
    "La plupart des variables explicatives contiennent des valeurs manquantes, toutes (<1%).\n",
    "Plusieurs méthodes sont possibles. En effet, nous pouvons remplacer les valeurs manquantes par la moyenne, la médiane, enfin par regression des autres variables explicatives et enfin par le mode (pour les variables categorielles) et enfin les supprimer si elles sont en nombre restreint (<5% du dataset).\n",
    "<br> Nous allons opter pour la dernière option et les supprimer de notre jeu de données."
   ]
  },
  {
   "cell_type": "markdown",
   "metadata": {},
   "source": [
    "#### Regardons le nombre de lignes du dataset supprimés en cas de non conservation des valeurs manquantes"
   ]
  },
  {
   "cell_type": "code",
   "execution_count": 7,
   "metadata": {},
   "outputs": [
    {
     "name": "stdout",
     "output_type": "stream",
     "text": [
      "nombres de lignes manquantes: 4.89500000000001%\n"
     ]
    }
   ],
   "source": [
    "clean_data = data.dropna(how='any').reset_index()\n",
    "print('nombres de lignes manquantes: {}%'\\\n",
    "      .format(100-((len(clean_data)/len(data))*100)))"
   ]
  },
  {
   "cell_type": "code",
   "execution_count": 8,
   "metadata": {},
   "outputs": [
    {
     "data": {
      "text/plain": [
       "1401"
      ]
     },
     "execution_count": 8,
     "metadata": {},
     "output_type": "execute_result"
    }
   ],
   "source": [
    "len(clean_data.query('note>100').index)"
   ]
  },
  {
   "cell_type": "markdown",
   "metadata": {},
   "source": [
    "#### Effectuons un peu de features engineering avec l'élément date"
   ]
  },
  {
   "cell_type": "code",
   "execution_count": 9,
   "metadata": {},
   "outputs": [],
   "source": [
    "# créer un element annee\n",
    "clean_data['year'] = clean_data['date'].dt.year\n",
    "# creer un element mois\n",
    "clean_data['month'] = clean_data['date'].dt.month\n",
    "# créer un element jour\n",
    "clean_data['day'] = clean_data['date'].dt.day\n",
    "# creer un element week end\n",
    "clean_data['week_day'] = clean_data['date'].dt.weekday\n"
   ]
  },
  {
   "cell_type": "code",
   "execution_count": 10,
   "metadata": {},
   "outputs": [
    {
     "data": {
      "text/html": [
       "<div>\n",
       "<style scoped>\n",
       "    .dataframe tbody tr th:only-of-type {\n",
       "        vertical-align: middle;\n",
       "    }\n",
       "\n",
       "    .dataframe tbody tr th {\n",
       "        vertical-align: top;\n",
       "    }\n",
       "\n",
       "    .dataframe thead th {\n",
       "        text-align: right;\n",
       "    }\n",
       "</style>\n",
       "<table border=\"1\" class=\"dataframe\">\n",
       "  <thead>\n",
       "    <tr style=\"text-align: right;\">\n",
       "      <th></th>\n",
       "      <th>index</th>\n",
       "      <th>age</th>\n",
       "      <th>exp</th>\n",
       "      <th>salaire</th>\n",
       "      <th>note</th>\n",
       "      <th>embauche</th>\n",
       "      <th>year</th>\n",
       "      <th>month</th>\n",
       "      <th>day</th>\n",
       "      <th>week_day</th>\n",
       "    </tr>\n",
       "  </thead>\n",
       "  <tbody>\n",
       "    <tr>\n",
       "      <td>count</td>\n",
       "      <td>19021.000000</td>\n",
       "      <td>19021.000000</td>\n",
       "      <td>19021.000000</td>\n",
       "      <td>19021.000000</td>\n",
       "      <td>19021.000000</td>\n",
       "      <td>19021.000000</td>\n",
       "      <td>19021.000000</td>\n",
       "      <td>19021.000000</td>\n",
       "      <td>19021.000000</td>\n",
       "      <td>19021.000000</td>\n",
       "    </tr>\n",
       "    <tr>\n",
       "      <td>mean</td>\n",
       "      <td>9993.008990</td>\n",
       "      <td>34.998791</td>\n",
       "      <td>9.496662</td>\n",
       "      <td>34966.878713</td>\n",
       "      <td>75.184446</td>\n",
       "      <td>0.114558</td>\n",
       "      <td>2012.000473</td>\n",
       "      <td>6.534777</td>\n",
       "      <td>15.634877</td>\n",
       "      <td>3.004574</td>\n",
       "    </tr>\n",
       "    <tr>\n",
       "      <td>std</td>\n",
       "      <td>5771.344205</td>\n",
       "      <td>9.606263</td>\n",
       "      <td>3.012915</td>\n",
       "      <td>5005.208499</td>\n",
       "      <td>17.112102</td>\n",
       "      <td>0.318496</td>\n",
       "      <td>1.417166</td>\n",
       "      <td>3.453737</td>\n",
       "      <td>8.778311</td>\n",
       "      <td>2.006386</td>\n",
       "    </tr>\n",
       "    <tr>\n",
       "      <td>min</td>\n",
       "      <td>0.000000</td>\n",
       "      <td>-3.000000</td>\n",
       "      <td>-2.000000</td>\n",
       "      <td>14128.000000</td>\n",
       "      <td>8.680000</td>\n",
       "      <td>0.000000</td>\n",
       "      <td>2010.000000</td>\n",
       "      <td>1.000000</td>\n",
       "      <td>1.000000</td>\n",
       "      <td>0.000000</td>\n",
       "    </tr>\n",
       "    <tr>\n",
       "      <td>25%</td>\n",
       "      <td>4986.000000</td>\n",
       "      <td>29.000000</td>\n",
       "      <td>7.000000</td>\n",
       "      <td>31593.000000</td>\n",
       "      <td>63.730000</td>\n",
       "      <td>0.000000</td>\n",
       "      <td>2011.000000</td>\n",
       "      <td>4.000000</td>\n",
       "      <td>8.000000</td>\n",
       "      <td>1.000000</td>\n",
       "    </tr>\n",
       "    <tr>\n",
       "      <td>50%</td>\n",
       "      <td>9989.000000</td>\n",
       "      <td>35.000000</td>\n",
       "      <td>9.000000</td>\n",
       "      <td>34968.000000</td>\n",
       "      <td>75.110000</td>\n",
       "      <td>0.000000</td>\n",
       "      <td>2012.000000</td>\n",
       "      <td>7.000000</td>\n",
       "      <td>16.000000</td>\n",
       "      <td>3.000000</td>\n",
       "    </tr>\n",
       "    <tr>\n",
       "      <td>75%</td>\n",
       "      <td>14993.000000</td>\n",
       "      <td>41.000000</td>\n",
       "      <td>12.000000</td>\n",
       "      <td>38353.000000</td>\n",
       "      <td>86.670000</td>\n",
       "      <td>0.000000</td>\n",
       "      <td>2013.000000</td>\n",
       "      <td>10.000000</td>\n",
       "      <td>23.000000</td>\n",
       "      <td>5.000000</td>\n",
       "    </tr>\n",
       "    <tr>\n",
       "      <td>max</td>\n",
       "      <td>19999.000000</td>\n",
       "      <td>72.000000</td>\n",
       "      <td>23.000000</td>\n",
       "      <td>53977.000000</td>\n",
       "      <td>143.220000</td>\n",
       "      <td>1.000000</td>\n",
       "      <td>2014.000000</td>\n",
       "      <td>12.000000</td>\n",
       "      <td>31.000000</td>\n",
       "      <td>6.000000</td>\n",
       "    </tr>\n",
       "  </tbody>\n",
       "</table>\n",
       "</div>"
      ],
      "text/plain": [
       "              index           age           exp       salaire          note  \\\n",
       "count  19021.000000  19021.000000  19021.000000  19021.000000  19021.000000   \n",
       "mean    9993.008990     34.998791      9.496662  34966.878713     75.184446   \n",
       "std     5771.344205      9.606263      3.012915   5005.208499     17.112102   \n",
       "min        0.000000     -3.000000     -2.000000  14128.000000      8.680000   \n",
       "25%     4986.000000     29.000000      7.000000  31593.000000     63.730000   \n",
       "50%     9989.000000     35.000000      9.000000  34968.000000     75.110000   \n",
       "75%    14993.000000     41.000000     12.000000  38353.000000     86.670000   \n",
       "max    19999.000000     72.000000     23.000000  53977.000000    143.220000   \n",
       "\n",
       "           embauche          year         month           day      week_day  \n",
       "count  19021.000000  19021.000000  19021.000000  19021.000000  19021.000000  \n",
       "mean       0.114558   2012.000473      6.534777     15.634877      3.004574  \n",
       "std        0.318496      1.417166      3.453737      8.778311      2.006386  \n",
       "min        0.000000   2010.000000      1.000000      1.000000      0.000000  \n",
       "25%        0.000000   2011.000000      4.000000      8.000000      1.000000  \n",
       "50%        0.000000   2012.000000      7.000000     16.000000      3.000000  \n",
       "75%        0.000000   2013.000000     10.000000     23.000000      5.000000  \n",
       "max        1.000000   2014.000000     12.000000     31.000000      6.000000  "
      ]
     },
     "execution_count": 10,
     "metadata": {},
     "output_type": "execute_result"
    }
   ],
   "source": [
    "# description du jeu de donnees apres nettoyage\n",
    "clean_data.describe()"
   ]
  },
  {
   "cell_type": "markdown",
   "metadata": {},
   "source": [
    "La valeur maximum de la colonne <b>Note</b> contrairement à l'enoncé est de 143,\n",
    "ce qui signifie qu'il y'a des notes plus grandes que 100.\n",
    "<br> Ceci peut signifier une surperformance aux tests ou une erreur de mesure.\n",
    "<br> Vu que l'enoncé precise que la note maximale est de 100 (vu que les tests sont notés)\n",
    "sur 100, nous allons ramener l'ensemble des notes supérieures à 100 à 100."
   ]
  },
  {
   "cell_type": "code",
   "execution_count": 11,
   "metadata": {},
   "outputs": [],
   "source": [
    "cond = clean_data['note']>100\n",
    "# rapporter les notes superieures à 100 à 100\n",
    "clean_data.loc[cond, 'note'] = 100"
   ]
  },
  {
   "cell_type": "markdown",
   "metadata": {},
   "source": [
    "Vu que le nombre de lignes à supprimer est lui inférieur sensiblement / <b>5%</b> de l'ensemble du dataset, on pourrait vraisemblablement les supprimer. Cependant, avant de considerer cette étape regardons l'impact d'une éventuel suppression sur le jeu de données.\n"
   ]
  },
  {
   "cell_type": "code",
   "execution_count": 12,
   "metadata": {},
   "outputs": [
    {
     "data": {
      "text/plain": [
       "<matplotlib.legend.Legend at 0x7fa2532459e8>"
      ]
     },
     "execution_count": 12,
     "metadata": {},
     "output_type": "execute_result"
    },
    {
     "data": {
      "image/png": "[encoded data removed]",
      "text/plain": [
       "<Figure size 432x288 with 1 Axes>"
      ]
     },
     "metadata": {},
     "output_type": "display_data"
    }
   ],
   "source": [
    "labels = data['embauche'].value_counts().index\n",
    "data_embauche_stat = data['embauche'].value_counts()\n",
    "data_clean_embauche_stat = clean_data['embauche'].value_counts()\n",
    "#normalier les donnees\n",
    "data_embauche_stat /= len(data['embauche'])\n",
    "data_clean_embauche_stat /= len(clean_data['embauche'])\n",
    "\n",
    "x = np.arange(len(labels))  # labels\n",
    "\n",
    "width = 0.35  # largeur des bars\n",
    "\n",
    "fig, ax = plt.subplots()\n",
    "rects1 = ax.bar(x - width/2, data_embauche_stat, width, label='initial dataset')\n",
    "rects2 = ax.bar(x + width/2, data_clean_embauche_stat, width, label='cleaned dataset')\n",
    "\n",
    "# ajouter du texte, titre etc...\n",
    "ax.set_ylabel('frequency')\n",
    "ax.set_title('embauche frequency for initial and cleaned data')\n",
    "ax.set_xticks(x)\n",
    "ax.set_xticklabels(labels)\n",
    "ax.legend()"
   ]
  },
  {
   "cell_type": "markdown",
   "metadata": {
    "collapsed": true
   },
   "source": [
    "<br> 0 represente le cas <b> pas d'embauche.</b> \n",
    "<br> 1 represente le cas <b> embauche. </b>\n",
    "<br> Le fait de supprimer l'ensemble des valeurs manquantes de notre jeu de données n'affecte pas \n",
    "la distribution de la variable à prédire i.e embauche. <br> Nous allons donc procéder à cette suppression compte tenu aussi du faible nombre de valeurs manquantes (<5%).\n",
    "<br>IL est vrai que nous aurions pu procéder à l'imputation de ces valeurs manquantes en utilisant diverses \n",
    "techniques/méthodes comme le remplacement par <b>la moyenne</b>, par <b>la médiane</b> ou le remplacement par <b>regression</b> des \n",
    "autres variables mais par peur d'introduire un biais quelconque dans le jeu de données au travers de ces méthodes,\n",
    "nous allons supprimer les données."
   ]
  },
  {
   "cell_type": "markdown",
   "metadata": {},
   "source": [
    "#### Visualisation des variables numériques\n"
   ]
  },
  {
   "cell_type": "code",
   "execution_count": 13,
   "metadata": {},
   "outputs": [
    {
     "data": {
      "text/plain": [
       "array([[<matplotlib.axes._subplots.AxesSubplot object at 0x7fa2531efd30>,\n",
       "        <matplotlib.axes._subplots.AxesSubplot object at 0x7fa2531d1f60>,\n",
       "        <matplotlib.axes._subplots.AxesSubplot object at 0x7fa25318b550>],\n",
       "       [<matplotlib.axes._subplots.AxesSubplot object at 0x7fa25313eb00>,\n",
       "        <matplotlib.axes._subplots.AxesSubplot object at 0x7fa2530fd0f0>,\n",
       "        <matplotlib.axes._subplots.AxesSubplot object at 0x7fa2530ad6a0>],\n",
       "       [<matplotlib.axes._subplots.AxesSubplot object at 0x7fa2530dcc50>,\n",
       "        <matplotlib.axes._subplots.AxesSubplot object at 0x7fa25309b278>,\n",
       "        <matplotlib.axes._subplots.AxesSubplot object at 0x7fa25309b2b0>],\n",
       "       [<matplotlib.axes._subplots.AxesSubplot object at 0x7fa252ffdda0>,\n",
       "        <matplotlib.axes._subplots.AxesSubplot object at 0x7fa252fbb358>,\n",
       "        <matplotlib.axes._subplots.AxesSubplot object at 0x7fa252f6d908>]],\n",
       "      dtype=object)"
      ]
     },
     "execution_count": 13,
     "metadata": {},
     "output_type": "execute_result"
    },
    {
     "data": {
      "image/png": "[encoded data removed]",
      "text/plain": [
       "<Figure size 1080x1440 with 12 Axes>"
      ]
     },
     "metadata": {},
     "output_type": "display_data"
    }
   ],
   "source": [
    "clean_data.hist(figsize=(15,20))"
   ]
  },
  {
   "cell_type": "markdown",
   "metadata": {},
   "source": [
    "Les variables <b>age</b>,  <b>exp</b>, <b>note</b>, <b>salaire</b> ont une distribution quasi gaussienne."
   ]
  },
  {
   "cell_type": "markdown",
   "metadata": {},
   "source": [
    "#### Examinons la correlation lineaire entre les variables numériques du dataset\n",
    "Les distributions etant gaussiennes pour la plupart (voir figure ci dessus),\n",
    "nous pouvons utiliser le coefficient de correlation de <b>pearson</b>\n",
    "pour detecter d'eventuels coefficients de correlation linéaire entre\n",
    "les variables numériques."
   ]
  },
  {
   "cell_type": "code",
   "execution_count": 14,
   "metadata": {
    "scrolled": true
   },
   "outputs": [
    {
     "data": {
      "text/plain": [
       "index      -0.020974\n",
       "age        -0.013513\n",
       "exp         0.007384\n",
       "salaire     0.002557\n",
       "note        0.006605\n",
       "embauche    1.000000\n",
       "year        0.017818\n",
       "month       0.007777\n",
       "day        -0.009843\n",
       "week_day    0.000085\n",
       "Name: embauche, dtype: float64"
      ]
     },
     "execution_count": 14,
     "metadata": {},
     "output_type": "execute_result"
    }
   ],
   "source": [
    "clean_data.corr()['embauche']"
   ]
  },
  {
   "cell_type": "markdown",
   "metadata": {},
   "source": [
    "Il n'y a rien de significatif à tirer de cette analyse sauf le fait que les autres variables numériques sont faiblement reliés à la variable cible <b>embauche</b>.\n",
    "<br> Meme la <i>note</i> obtenue à l'exercice de la recherche d'or est très peu correlé à la potentielle embauche.\n",
    "<br> Il y'a pour l'instant aucun pattern fixe se degageant des données."
   ]
  },
  {
   "cell_type": "markdown",
   "metadata": {},
   "source": [
    "### 2. Analyse des possibles dependances statistiques"
   ]
  },
  {
   "cell_type": "markdown",
   "metadata": {},
   "source": [
    "#### 2.1 Y'a t'il une dependance statistiquement significative entre la specialité et le sexe?\n",
    "<b> La specialité</b> et le <b> sexe</b> sont tous deux des variables de type categorielle.\n",
    "<br> Afin d'identifier un potentiel lien statistique entre les variables, nous allons procéder à un test d'hypothèse du <b>khi-deux</b>."
   ]
  },
  {
   "cell_type": "code",
   "execution_count": 15,
   "metadata": {},
   "outputs": [],
   "source": [
    "X = \"specialite\"\n",
    "Y = \"sexe\"\n",
    "\n",
    "tableau_contengence = clean_data[[X,Y]].pivot_table(index=X,\n",
    "                                                    columns=Y,\n",
    "                                                    aggfunc=len,\n",
    "                                                    margins=True,\n",
    "                                                    margins_name=\"Total\")\n"
   ]
  },
  {
   "cell_type": "code",
   "execution_count": 16,
   "metadata": {},
   "outputs": [
    {
     "data": {
      "text/html": [
       "<div>\n",
       "<style scoped>\n",
       "    .dataframe tbody tr th:only-of-type {\n",
       "        vertical-align: middle;\n",
       "    }\n",
       "\n",
       "    .dataframe tbody tr th {\n",
       "        vertical-align: top;\n",
       "    }\n",
       "\n",
       "    .dataframe thead th {\n",
       "        text-align: right;\n",
       "    }\n",
       "</style>\n",
       "<table border=\"1\" class=\"dataframe\">\n",
       "  <thead>\n",
       "    <tr style=\"text-align: right;\">\n",
       "      <th>sexe</th>\n",
       "      <th>F</th>\n",
       "      <th>M</th>\n",
       "      <th>Total</th>\n",
       "    </tr>\n",
       "    <tr>\n",
       "      <th>specialite</th>\n",
       "      <th></th>\n",
       "      <th></th>\n",
       "      <th></th>\n",
       "    </tr>\n",
       "  </thead>\n",
       "  <tbody>\n",
       "    <tr>\n",
       "      <td>archeologie</td>\n",
       "      <td>1042</td>\n",
       "      <td>280</td>\n",
       "      <td>1322</td>\n",
       "    </tr>\n",
       "    <tr>\n",
       "      <td>detective</td>\n",
       "      <td>2409</td>\n",
       "      <td>1552</td>\n",
       "      <td>3961</td>\n",
       "    </tr>\n",
       "    <tr>\n",
       "      <td>forage</td>\n",
       "      <td>1899</td>\n",
       "      <td>2261</td>\n",
       "      <td>4160</td>\n",
       "    </tr>\n",
       "    <tr>\n",
       "      <td>geologie</td>\n",
       "      <td>2316</td>\n",
       "      <td>7262</td>\n",
       "      <td>9578</td>\n",
       "    </tr>\n",
       "    <tr>\n",
       "      <td>Total</td>\n",
       "      <td>7666</td>\n",
       "      <td>11355</td>\n",
       "      <td>19021</td>\n",
       "    </tr>\n",
       "  </tbody>\n",
       "</table>\n",
       "</div>"
      ],
      "text/plain": [
       "sexe            F      M  Total\n",
       "specialite                     \n",
       "archeologie  1042    280   1322\n",
       "detective    2409   1552   3961\n",
       "forage       1899   2261   4160\n",
       "geologie     2316   7262   9578\n",
       "Total        7666  11355  19021"
      ]
     },
     "execution_count": 16,
     "metadata": {},
     "output_type": "execute_result"
    }
   ],
   "source": [
    "tableau_contengence"
   ]
  },
  {
   "cell_type": "markdown",
   "metadata": {},
   "source": [
    "Calculons le tableau que l'on aurait du avoir en cas d'independance des deux evènements."
   ]
  },
  {
   "cell_type": "code",
   "execution_count": 17,
   "metadata": {},
   "outputs": [],
   "source": [
    "freq = tableau_contengence.loc['Total',:]/tableau_contengence.loc['Total','Total']"
   ]
  },
  {
   "cell_type": "code",
   "execution_count": 18,
   "metadata": {},
   "outputs": [],
   "source": [
    "tableau_contengence_ind = tableau_contengence.copy()"
   ]
  },
  {
   "cell_type": "code",
   "execution_count": 19,
   "metadata": {},
   "outputs": [],
   "source": [
    "tableau_contengence.loc['Total', 'Total']\n",
    "\n",
    "for i in tableau_contengence.index:\n",
    "    for j in tableau_contengence_ind.columns:\n",
    "        if i!='Total' and j!='Total':\n",
    "            tableau_contengence_ind.loc[i, j] = round((tableau_contengence_ind.loc['Total', j]/tableau_contengence_ind.loc['Total', 'Total'])*\\\n",
    "                                                      tableau_contengence_ind.loc[i, 'Total'], 1) "
   ]
  },
  {
   "cell_type": "code",
   "execution_count": 20,
   "metadata": {},
   "outputs": [
    {
     "data": {
      "text/html": [
       "<div>\n",
       "<style scoped>\n",
       "    .dataframe tbody tr th:only-of-type {\n",
       "        vertical-align: middle;\n",
       "    }\n",
       "\n",
       "    .dataframe tbody tr th {\n",
       "        vertical-align: top;\n",
       "    }\n",
       "\n",
       "    .dataframe thead th {\n",
       "        text-align: right;\n",
       "    }\n",
       "</style>\n",
       "<table border=\"1\" class=\"dataframe\">\n",
       "  <thead>\n",
       "    <tr style=\"text-align: right;\">\n",
       "      <th>sexe</th>\n",
       "      <th>F</th>\n",
       "      <th>M</th>\n",
       "      <th>Total</th>\n",
       "    </tr>\n",
       "    <tr>\n",
       "      <th>specialite</th>\n",
       "      <th></th>\n",
       "      <th></th>\n",
       "      <th></th>\n",
       "    </tr>\n",
       "  </thead>\n",
       "  <tbody>\n",
       "    <tr>\n",
       "      <td>archeologie</td>\n",
       "      <td>532.8</td>\n",
       "      <td>789.2</td>\n",
       "      <td>1322</td>\n",
       "    </tr>\n",
       "    <tr>\n",
       "      <td>detective</td>\n",
       "      <td>1596.4</td>\n",
       "      <td>2364.6</td>\n",
       "      <td>3961</td>\n",
       "    </tr>\n",
       "    <tr>\n",
       "      <td>forage</td>\n",
       "      <td>1676.6</td>\n",
       "      <td>2483.4</td>\n",
       "      <td>4160</td>\n",
       "    </tr>\n",
       "    <tr>\n",
       "      <td>geologie</td>\n",
       "      <td>3860.2</td>\n",
       "      <td>5717.8</td>\n",
       "      <td>9578</td>\n",
       "    </tr>\n",
       "    <tr>\n",
       "      <td>Total</td>\n",
       "      <td>7666.0</td>\n",
       "      <td>11355.0</td>\n",
       "      <td>19021</td>\n",
       "    </tr>\n",
       "  </tbody>\n",
       "</table>\n",
       "</div>"
      ],
      "text/plain": [
       "sexe              F        M  Total\n",
       "specialite                         \n",
       "archeologie   532.8    789.2   1322\n",
       "detective    1596.4   2364.6   3961\n",
       "forage       1676.6   2483.4   4160\n",
       "geologie     3860.2   5717.8   9578\n",
       "Total        7666.0  11355.0  19021"
      ]
     },
     "execution_count": 20,
     "metadata": {},
     "output_type": "execute_result"
    }
   ],
   "source": [
    "tableau_contengence_ind"
   ]
  },
  {
   "cell_type": "code",
   "execution_count": 21,
   "metadata": {},
   "outputs": [],
   "source": [
    "carre_erreur_residuel_pondere = 0\n",
    "\n",
    "for i in tableau_contengence_ind.index:\n",
    "    for j in tableau_contengence_ind.columns:\n",
    "        if i!='Total' and j!='Total':\n",
    "            diff = tableau_contengence.loc[i, j]-tableau_contengence_ind.loc[i, j]      \n",
    "            diff_carree = diff**2\n",
    "            carre_erreur_residuel_pondere+= diff_carree/tableau_contengence_ind.loc[i, j]\n",
    "            "
   ]
  },
  {
   "cell_type": "markdown",
   "metadata": {},
   "source": [
    "La distribution Chi-deux demande (tout comme l’analyse de variance) le calcul du degré de liberté, car cette distribution varie de forme en fonction du degré de liberté du tableau croisé. Cependant, le calcul du degré de liberté ne dépend pas du nombre de sujets, mais plutôt du nombre de rangées (Ligne) et de colonnes (Colonne) dans votre tableau croisé.\n",
    "\n",
    "Degré de liberté = (nombre de rangées – 1) X (nombre de colonnes – 1)  i.e\n",
    "<br> Degré de liberté = (4-1)*(2-1)= <b>4</b>\n",
    "\n",
    "Dans ce cas-ci, le degré de liberté de la distribution Chi-deux est de 1. Il suffit maintenant d'aller comparer cette statistique Chi-deux à la table de distribution Chi-deux paramétrée par le degré de liberté en fonction du niveau de signification choisi (probabilité de se tromper) à 5% i.e <b>p = 0.05</b>. Il sera alors possible ou non de rejeter l'hypothèse nulle d'absence de relation.\n",
    "<br> La règle est la suivante :\n",
    "<br>• Si le khi-carré calculé est inférieur au khi-carré théorique : indépendance\n",
    "<br>• Si le khi-carré calculé est supérieur au khi-carré théorique : dépendance\n",
    "#### TABLE  \n",
    "<img src='image_2.png'>\n"
   ]
  },
  {
   "cell_type": "markdown",
   "metadata": {},
   "source": [
    "le khi-carre calculé (2592.25) est supérieur au khi théorique (7.81) dans notre cas.\n",
    "On peut donc vraisemblablement rejeter l'hypothèse nulle d'indépendance.\n",
    "<br> Les deux variables sont donc statistiquement <b> dependantes </b>.\n",
    "<br> Une implémentation de ce test est disponible sous <b> scipy </b> \n",
    "chi2_contingency"
   ]
  },
  {
   "cell_type": "code",
   "execution_count": 22,
   "metadata": {},
   "outputs": [
    {
     "data": {
      "text/plain": [
       "(2592.2586573875888, 4, 0.0)"
      ]
     },
     "execution_count": 22,
     "metadata": {},
     "output_type": "execute_result"
    }
   ],
   "source": [
    "tableau_contengence = tableau_contengence.drop('Total', axis=1)\n",
    "vtableau_contengence = tableau_contengence.drop('Total', axis=0)\n",
    "chi2, pvalue, degrees, expected = chi2_contingency(tableau_contengence)\n",
    "chi2, degrees, pvalue"
   ]
  },
  {
   "cell_type": "markdown",
   "metadata": {},
   "source": [
    "#### 2.2 Y'a t'il une dependance statistiquement significative entre la couleur des cheveux et le salaire demandé?\n",
    "<b> La couleur des cheveux</b> est une variable categorielle et le <b> salaire</b> une variable numérique.\n",
    "<br> Afin d'identifier un potentiel lien statistique entre les variables, nous allons procéder à un test <b> ANOVA (Analyse of Variance)</b> ."
   ]
  },
  {
   "cell_type": "code",
   "execution_count": 23,
   "metadata": {},
   "outputs": [
    {
     "name": "stdout",
     "output_type": "stream",
     "text": [
      "somme des carees totales 476491172405.1894\n",
      "somme des carrees expliques 2065099532.8619144\n"
     ]
    },
    {
     "data": {
      "text/plain": [
       "0.004333972279985567"
      ]
     },
     "execution_count": 23,
     "metadata": {},
     "output_type": "execute_result"
    }
   ],
   "source": [
    "X = \"cheveux\" # qualitative\n",
    "Y = \"salaire\" # quantitative\n",
    "\n",
    "\n",
    "def eta_squared(x,y):\n",
    "    \"\"\"\n",
    "    effectue un test ANOVA\n",
    "    entre une variable numerique\n",
    "    et une variable categorielle\n",
    "    INPUT\n",
    "    -x : variable du dataset \n",
    "    -y: variable du dataset\n",
    "    OUTPUT\n",
    "    - retourne le % de variance expliquée.\n",
    "    \n",
    "    \"\"\"\n",
    "    moyenne_y = y.mean()\n",
    "    classes = []\n",
    "    for classe in x.unique():\n",
    "        yi_classe = y[x==classe]\n",
    "        classes.append({'ni': len(yi_classe),\n",
    "                        'moyenne_classe': yi_classe.mean()})\n",
    "    # somme des carees totales\n",
    "    SCT = sum([(yj-moyenne_y)**2 for yj in y])\n",
    "    print('somme des carees totales {}'.format(SCT))\n",
    "    # somme des carrees estimees\n",
    "    SCE = sum([c['ni']*(c['moyenne_classe']-moyenne_y)**2 for c in classes])\n",
    "    print('somme des carrees expliques {}'.format(SCE))\n",
    "    return SCE/SCT\n",
    "    \n",
    "eta_squared(clean_data[X],clean_data[Y])"
   ]
  },
  {
   "cell_type": "markdown",
   "metadata": {},
   "source": [
    "Tenant compte de la fonction <b>eta squared</b>, plus <b>SCE</b> est proche de <b> SCT</b>, plus la dependance statitisque entre\n",
    "les deux variables est forte et vice versa."
   ]
  },
  {
   "cell_type": "markdown",
   "metadata": {},
   "source": [
    "#### 2.3 Y'a t'il une dependance statistiquement significative entre le nombre d'années d'experiences et la note de l'exercice ?\n",
    "<b> Le nombre d'années d'experiences</b> est une variable quantitative et la <b> note de l'exercice</b> une variable numérique.\n",
    "<br> Afin d'identifier un potentiel lien statistique entre les variables, nous allons calculer <b>le coefficient de correlation de pearson </b> pour ces variables (car leurs distribution semblent gaussiennes).\n",
    "<b> Dans le cas contraire, on aurait pu utilisé les coefficients de <b>spearman</b> ou de <b>kendall-tau</b> basés sur le rang."
   ]
  },
  {
   "cell_type": "markdown",
   "metadata": {},
   "source": [
    "L'ensemble des variables explicatives comme visualisées plus haut semblent suivre une distribution gaussienne. On peut donc calculer le coefficient de correlation de pearson entre ces deux variables"
   ]
  },
  {
   "cell_type": "code",
   "execution_count": 24,
   "metadata": {
    "scrolled": true
   },
   "outputs": [
    {
     "name": "stdout",
     "output_type": "stream",
     "text": [
      "correlation entre la note et le reste des variables \n",
      "note        1.000000\n",
      "day         0.013271\n",
      "embauche    0.006605\n",
      "index       0.004884\n",
      "week_day    0.003710\n",
      "year       -0.000723\n",
      "age        -0.005773\n",
      "exp        -0.012163\n",
      "month      -0.012197\n",
      "salaire    -0.442035\n",
      "Name: note, dtype: float64\n"
     ]
    }
   ],
   "source": [
    "corr = clean_data.corr()\n",
    "print('correlation entre la note et le reste des variables \\n{}'.format(corr['note'].sort_values(ascending=False)))"
   ]
  },
  {
   "cell_type": "markdown",
   "metadata": {},
   "source": [
    "On remarque que les variables etudiées ne sont pas linéairement correlés (coefficient de correlation de pearson de -0.01)"
   ]
  },
  {
   "cell_type": "markdown",
   "metadata": {},
   "source": [
    "Essayons de visualiser le resultat pour des algorithmes <b> non parametriques </b> tels que <b> spearman</b> et <b>kendall-tau</b>"
   ]
  },
  {
   "cell_type": "code",
   "execution_count": 25,
   "metadata": {},
   "outputs": [
    {
     "name": "stdout",
     "output_type": "stream",
     "text": [
      "coeff de spearmann -0.012396326869215461\n",
      "coeff de kendall_tau -0.008661221353520253\n"
     ]
    }
   ],
   "source": [
    "kendall_result = kendalltau(clean_data['note'], clean_data['exp'])\n",
    "spearman = spearmanr(clean_data['note'], clean_data['exp'])\n",
    "print('coeff de spearmann {}'.format(spearman.correlation))\n",
    "print('coeff de kendall_tau {}'.format(kendall_result.correlation))"
   ]
  },
  {
   "cell_type": "markdown",
   "metadata": {},
   "source": [
    "Le resultat trouvé plus haut est donc confirmé. Les deux variables etudiés (la <b> note</b> et  l'<b>experience</b>) sont faiblement statistiquement liés."
   ]
  },
  {
   "cell_type": "markdown",
   "metadata": {},
   "source": [
    "### 2. Machine learning"
   ]
  },
  {
   "cell_type": "markdown",
   "metadata": {},
   "source": [
    "#### 2.1 Choix de l'algorithme, specificités de parametrages\n",
    "Pour le choix de l'algorithme, j'ai opté pour une méthode ensembliste ici <b> random forest </b>.\n",
    "<br> Plusieurs raisons expliquent ce choix. Il s'agit d'abord d'une combinaison de plusieurs arbres de decisions entrainés sur des sous ensembles de features et des observations differentes pour fournir une reponse finale plus robuste.\n",
    "<br> L'erreur commise par les classifieurs est lié d'une part aux données et d'autre part aux classifieurs que l'on choisi (<b> erreur ajouté</b>). Combiner plusieurs classifieurs permet de reduire l'erreur ajouté. Ce qui explique notre choix.\n",
    "<br> Notre modèle dispose de plusieurs <b>hyperparametres</b>.\n",
    "<br> <b>n_estimators</b> : nombre d'arbres de decision qui feront partie du random forest\n",
    "<br> <b>max_features</b> : taille du sous ensemble aléatoire de features pour le meilleur split.\n"
   ]
  },
  {
   "cell_type": "code",
   "execution_count": 26,
   "metadata": {},
   "outputs": [],
   "source": [
    "labels_to_keep = list(set(clean_data.select_dtypes(exclude=['number']))-set(['embauche', 'date']))\n",
    "cat_features = clean_data[labels_to_keep]\n",
    "num_features = clean_data.loc[:,['week_day', 'age', 'exp',\n",
    "                                 'salaire', 'note', 'year', \n",
    "                                 'month', 'day']\n",
    "                             ]\n",
    "labels = clean_data.loc[:, 'embauche']"
   ]
  },
  {
   "cell_type": "code",
   "execution_count": 27,
   "metadata": {},
   "outputs": [],
   "source": [
    "cat_dummies = pd.get_dummies(cat_features)\n",
    "features = pd.concat([cat_dummies,num_features], axis=1)\n",
    "\n",
    "# on va ici diviser le dataframe en 80% pour l'apprentissage et 20% pour le test\n",
    "split = StratifiedShuffleSplit(n_splits=1, random_state=42)\n",
    "for train_index, test_index in split.split(clean_data, clean_data['embauche']):\n",
    "    train_set = features.loc[train_index, :]\n",
    "    train_label = labels[train_index]\n",
    "    test_set = features.loc[test_index, :]\n",
    "    test_label = labels[test_index]\n",
    "    "
   ]
  },
  {
   "cell_type": "code",
   "execution_count": 28,
   "metadata": {},
   "outputs": [
    {
     "name": "stdout",
     "output_type": "stream",
     "text": [
      "Fitting 3 folds for each of 20 candidates, totalling 60 fits\n"
     ]
    },
    {
     "name": "stderr",
     "output_type": "stream",
     "text": [
      "[Parallel(n_jobs=-1)]: Using backend LokyBackend with 4 concurrent workers.\n",
      "/home/cursedomonstro/anaconda3/envs/UdacityDataScience/lib/python3.6/site-packages/joblib/externals/loky/process_executor.py:706: UserWarning: A worker stopped while some jobs were given to the executor. This can be caused by a too short worker timeout or by a memory leak.\n",
      "  \"timeout or by a memory leak.\", UserWarning\n",
      "[Parallel(n_jobs=-1)]: Done  33 tasks      | elapsed:  1.9min\n",
      "[Parallel(n_jobs=-1)]: Done  60 out of  60 | elapsed:  4.1min finished\n"
     ]
    },
    {
     "name": "stdout",
     "output_type": "stream",
     "text": [
      "best params {'max_features': 0.8, 'n_estimators': 200}\n",
      "best scores 0.5604046229864811\n",
      "correlation entre predictions et true labels: 0.5824551770988882% \n",
      "\n",
      "columnes matrice confusion [0, 1]\n",
      "matrice de confusion \n",
      " [[1664   21]\n",
      " [ 118  100]] \n"
     ]
    }
   ],
   "source": [
    "predictor = make_scorer(matthews_corrcoef)\n",
    "\n",
    "def tree_param_selection(data_set, label_set, nfolds):\n",
    "    \"\"\"predire les metiers manquants\n",
    "    Parametres\n",
    "    ----------\n",
    "    data_set : jeu de donnees ne contenant que les metiers manquants\n",
    "    label_set : modele de prediction charge d'effectuer la prediction\n",
    "    nfolds : nombre de groupe pour la cross validation\n",
    "    Returns\n",
    "    -------\n",
    "    best_estimator : meilleur estimateur\"\"\"\n",
    "    \n",
    "    \n",
    "    # Number of trees in random forest\n",
    "    n_estimators = [50, 200, 500, 800]\n",
    "    # Number of features to consider at every split\n",
    "    max_features = [0.2, 0.8, \"log2\", \"sqrt\", None]\n",
    "\n",
    "    # Method of selecting samples for training each tree\n",
    "    bootstrap = [True, False]\n",
    "    random_grid = {'n_estimators': n_estimators,\n",
    "                   'max_features': max_features\n",
    "                  }\n",
    "    grid_search = GridSearchCV(estimator=RandomForestClassifier(random_state=42),\n",
    "                               param_grid=random_grid,\n",
    "                               scoring=predictor,\n",
    "                               cv=n_folds,\n",
    "                               verbose=2,\n",
    "                               n_jobs=-1\n",
    "                               )\n",
    "    grid_search.fit(data_set, label_set)\n",
    "    print('best params {}'.format(grid_search.best_params_))\n",
    "    print('best scores {}'.format(grid_search.best_score_))\n",
    "    best_estimator = grid_search.best_estimator_\n",
    "    return best_estimator\n",
    "\n",
    "n_folds=3\n",
    "tree_clf = tree_param_selection(train_set, train_label, n_folds)\n",
    "# prediction on test_set\n",
    "prediction_test_set = tree_clf.predict(test_set)\n",
    "print(\n",
    "    \"correlation entre predictions et true labels: {}% \\n\".format(\n",
    "        matthews_corrcoef(test_label, prediction_test_set)\n",
    "    )\n",
    ")\n",
    "\n",
    "# calculer la matrice de confusion\n",
    "confusion_matrice = confusion_matrix(\n",
    "    test_label, prediction_test_set, labels=list(np\n",
    "                                               .unique(test_label))\n",
    ")\n",
    "print('columnes matrice confusion {}'.format(list(np.unique(test_label))))\n",
    "print(\"matrice de confusion \\n {} \".format(confusion_matrice))\n"
   ]
  },
  {
   "cell_type": "markdown",
   "metadata": {},
   "source": [
    "Une analyse de la matrice de correlation revèle que la classification des élements de la classe majoritaire (pas d'embauche) se passe très bien (seulement <b>peu d'éléments incorrectement classifiés</b>). \n",
    "<br> Cependant pour la classe <b>embauche</b> il y'a presqu'autant d'éléments correctement classifiés que d'éléments mal classifiés. Le système de classifieurs a plus de mal avec cette classe. Cela peut s'expliquer d'une part par le fait que les classes sont difficilement separable et d'autre part par le fait que l'on dispose de peu d'éléments de cette classe."
   ]
  },
  {
   "cell_type": "markdown",
   "metadata": {},
   "source": [
    "####  2.2 Variables les plus importantes de mon modèle selon le random forest"
   ]
  },
  {
   "cell_type": "code",
   "execution_count": 29,
   "metadata": {},
   "outputs": [
    {
     "data": {
      "image/png": "[encoded data removed]",
      "text/plain": [
       "<Figure size 432x288 with 1 Axes>"
      ]
     },
     "metadata": {},
     "output_type": "display_data"
    }
   ],
   "source": [
    "importances = tree_clf.feature_importances_\n",
    "features_col = features.columns\n",
    "indices = np.argsort(importances)[-20:]\n",
    "plt.title('Feature Importances')\n",
    "plt.barh(range(len(indices)), importances[indices], color='b', align='center')\n",
    "plt.yticks(range(len(indices)), [features_col[i] for i in indices])\n",
    "plt.xlabel('Relative Importance')\n",
    "plt.show()"
   ]
  },
  {
   "cell_type": "markdown",
   "metadata": {},
   "source": [
    "Comme on peut le voir sur le graphique, <b>la note</b>, <b>le salaire demandé</b>, l'<b>age</b> etc.. sont les variables les plus importantes servant à expliquer la columne <b>embauche</b>.\n",
    "<br> Ce qui semble logique, vu que la note à l'exercice est supposé avoir un impact dans la selection. De plus il faut que le salaire demandé soit en adequation avec les moyens de la societé <b>OrFée</b>. Aussi, l'âge peut être un critère déterminant si l'entreprise recherche de jeunes candidats, le mois le jour ou la semaine s'il existe une periode de recrutement clé."
   ]
  },
  {
   "cell_type": "markdown",
   "metadata": {
    "collapsed": true
   },
   "source": [
    "<b>2.3</b> Critère de performance utilisé"
   ]
  },
  {
   "cell_type": "markdown",
   "metadata": {},
   "source": [
    "Le critère de performance etudié est <b>Matthews Correlation Coefficient</b>. Expliquons notre choix\n",
    "<br> <b>L'accuracy</b> ne correspond pas ici comme métrique compte tenu de la repartition des classes (88.5% pour la classe <b>pas d'embauche</b> et <b>11.45% pour l'embauche</b>. En effet, un classifieur trivial qui predirait toujours 0 aurait un taux de bonne classification de 88% alors qu'il n'est pas efficace ici.\n",
    "Aussi des metriques comme <b>la precision</b>, <b>le recall</b>, <b>f1_score</b> peuvent être utiliser ici. Re-definissons ces termes:\n",
    "<br> <b>recall</b> : proportion d'éléments de la classe positive correctement classifiés. La classe positive representera ici le cas <b> embauche</b>.\n",
    "<br><b>precision</b> : proportion d'éléments de la classe positive sur l'ensemble des élements de la classe positive\n",
    "<br> <b>f1_score</b> : moyenne harmonique des deux elements precedents.\n",
    "<br> Ces metriques sont interessantes dans le cas où nous avions une classe cible prioritaire à detecter (comme les cas de cancer) mais dans notre cas, il n y 'a aucune raison de privilégier une classe par rapport à un autre.\n",
    "<br> Contrairement à ces métriques citées ci dessus, <b>le coefficient de correlation de matthews</b>, donne de la valeur aux deux classes (dans le cadre d'un classifieur binaire contrairement au f1_score et il est beaucoup plus fiable que <b>l'accuracy</b> qui est biaisé en cas de deséquilibre des classes.\n",
    "<br> Il mesure ici la correlation entre les valeurs predites et les labels du test (en se basant sur la matrice de confusion)\n",
    "$$MCC=\\frac{TP*TN-FP*FN}{\\sqrt{(TP+FP)*(TP+FN)*(TN+FP)*(TN+FN)}}$$\n",
    "<br> <b>TP</b>: True Positive, <b>TN</b>: True Negative, <b>FP</b>: False Positive, <b>FN</b>: False Negative\n",
    "<br> Des proprietés remarquables peuvent être deduite de cette formule:\n",
    "<br> Si le classifieur est parfait, FP=FN=0 et MCC=1.\n",
    "<br> Dans le cas où le classifieur est mauvais TP=TN=0, MCC=-1."
   ]
  },
  {
   "cell_type": "markdown",
   "metadata": {},
   "source": [
    "<b>2.4</b> Quelques pistes d'ameliorations du modèle.\n",
    "<br> 1.Trouver plus de features (catacteristiques) en lien avec la variable à predire <b>embauche</b>.\n",
    "<br> 2. Recueillir plus d'éléments de la variable <b>embauche</b>==1, ce qui nous permettrait de mieux effectuer la distinction entre les cas ou l'individu est embauché et ceux ou il ne l'est pas."
   ]
  }
 ],
 "metadata": {
  "kernelspec": {
   "display_name": "Python 3",
   "language": "python",
   "name": "python3"
  },
  "language_info": {
   "codemirror_mode": {
    "name": "ipython",
    "version": 3
   },
   "file_extension": ".py",
   "mimetype": "text/x-python",
   "name": "python",
   "nbconvert_exporter": "python",
   "pygments_lexer": "ipython3",
   "version": "3.6.9"
  }
 },
 "nbformat": 4,
 "nbformat_minor": 2
}
